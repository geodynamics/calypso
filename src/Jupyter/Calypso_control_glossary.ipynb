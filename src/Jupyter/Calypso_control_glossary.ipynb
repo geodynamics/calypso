{
 "cells": [
  {
   "cell_type": "markdown",
   "id": "920770ba-c2af-4e03-897e-5563977ce43f",
   "metadata": {
    "tags": []
   },
   "source": [
    "# Description of control parameters for Calypso\n",
    "Control parameters are described in the follwing section. In Jupyter Lab, you can display the control parameter descriptions and control block editor side by side."
   ]
  },
  {
   "cell_type": "markdown",
   "id": "78af7bc0-7b1d-409c-bbca-4d1cd8912195",
   "metadata": {
    "tags": []
   },
   "source": [
    "## Block `MHD_control`\n",
    "The top control block name is 'MHD_control'. Editor area is displayed by the follwoing function:  \n",
    "  \n",
    "ctl.block_editbox([block_name]).  \n",
    "  \n",
    "The update in the text area is applied by clicking 'Update [Block_name] button.\n"
   ]
  },
  {
   "cell_type": "markdown",
   "id": "e51fb2d8-613c-4e41-af61-ebdc537f3465",
   "metadata": {
    "tags": []
   },
   "source": [
    "### Block `data_files_def`"
   ]
  },
  {
   "cell_type": "markdown",
   "id": "2cba8aab-1f25-4933-b7c0-6b0c17b0118b",
   "metadata": {
    "tags": []
   },
   "source": [
    "MPI, SMP, file prefix and formats are defined in this block.\n",
    "\n",
    "File names and number of processes and threads are defined in this block.\n",
    "\n",
    "- `debug_flag_ctl [ON/OFF]`\n",
    "Set `ON` to output messages for debug. Default value is `ON`. This is only for develop. When this option turns on, program outputs messages if programs reaches many of subroutines and some important values.\n",
    "\n",
    "- `num_subdomain_ctl  [Num_PE]` \n",
    "Number of subdomain for the MPI program [Num_PE] is defined by integer. If number of processes in `mpirun -np`  is different from number of subdomains, program will be stopped with message.  \n",
    "\n",
    "- `num_smp_ctl [Num_Threads]` \n",
    "Number of SMP threads for OpenMP [Num_Threads] is defined by integer. You can set larger number than the actual umber of thread to be used. If actual number of thread is less than this number, number of threads is set to the number which is defined in this field.\n",
    "\n",
    "- `sph_file_prefix [sph_prefix]` \n",
    "File prefix of spherical harmonics indexing and FEM mesh file \\verb|[sph_prefix]| is defined by text. Process ID and extension are added after this file prefix.\n",
    "    \n",
    "- `boundary_data_file_name [boundary_data_name]` \n",
    "File name of boundary condition data file [File_Name] is defined by text.\n",
    "\n",
    "- `radial_field_file_name [radial_field_file_name]` \n",
    "File name of radial field data file [File_Name] is defined by text. \n",
    "\n",
    "- `restart_file_prefix [rst_prefix]` \n",
    "File prefix of spectrum data for restarting and snapshots [rst_prefix] is defined by text. Step number, process ID, and extension are added after this file prefix.\n",
    "\n",
    "- `field_file_prefix [fld_prefix]` \n",
    "File prefix of field data for visualize snapshots [fld_prefix] is defined by text. Step number and file extension are  added after this file prefix.\n",
    "\n",
    "- `sph_file_fmt_ctl [sph_format]` \n",
    "File format of spherical harmonics indexing and FEM mesh file [sph_format] is defined by text. Following data formats can be defined. Flags of each data format is listed in the Table 1.\n",
    "\n",
    "- `restart_file_fmt_ctl [rst_format]` \n",
    "File format of restart files [rst_format] is defined by text. Following data formats can be defined. Flags of each data format is listed in the Table 1.\n",
    "\n",
    "\n",
    "Table 1: Flags of data format for `sph_file_fmt_ctl` and `restart_file_fmt_ctl` \n",
    "|`Label`| Description |\n",
    "|:-|:-|\n",
    "|`ascii`| Distributed ASCII data|\n",
    "|`binary`| Distributed binary data|\n",
    "|`merged`| Merged ASCII data|\n",
    "|`merged_bin`|  Merged binary data|\n",
    "|`gzip`| Compressed distributed ASCII data|\n",
    "|`binary_gz`| Compressed distributed binary data|\n",
    "|`merged_gz`| Compressed merged ASCII data|\n",
    "|`merged_bin_gz`| Compressed merged binary data|\n",
    "\n",
    "- `field_file_fmt_ctl [fld_format]`\n",
    "Field data field format for visualize snapshots [fld_format] is defined by text. The following formats are currently supported.\n",
    "\n",
    "Table 2: Flags of data format for `field_file_fmt_ctl`.\n",
    "|`Label`| Description |\n",
    "|:-|:-|\n",
    "|`single_HDF5`| Merged HDF5 file (Available if HDF5 library is linked)|\n",
    "|`single_VTK`| Merged VTK file (Default)|\n",
    "|`single_VTK_gz`| Compressed merged VTK file (Available if zlib library is linked)|\n",
    "|`VTK`|  Distributed VTK file|\n",
    "|`VTK_gz`| Compressed distributed VTK file (Available if zlib library is linked)|\n",
    "\n",
    "\n"
   ]
  },
  {
   "cell_type": "markdown",
   "id": "6542df65-315c-48f5-841c-35c1306e3a21",
   "metadata": {
    "jp-MarkdownHeadingCollapsed": true,
    "tags": []
   },
   "source": [
    "### Block `spherical_shell_ctl`"
   ]
  },
  {
   "cell_type": "markdown",
   "id": "c3ffabda-bf82-4451-aedc-8392bd28e915",
   "metadata": {
    "tags": []
   },
   "source": [
    "Configuration of the spherical shell and parallelization are defined by in this block. This block accept external file reading.\n",
    "Controls in external file can be loaded into another instances. In the follwing example, check if the \\'spherical_shell_ctl\\' block is refered from external file first. And then, control file for `spherical_shell_ctl` block is loaded in `shell_ctl` instance."
   ]
  },
  {
   "cell_type": "markdown",
   "id": "67fb15d3-10a7-4440-a3bf-2a84a628eb45",
   "metadata": {
    "tags": []
   },
   "source": [
    "#### Block `FEM_mesh_ctl`"
   ]
  },
  {
   "cell_type": "markdown",
   "id": "193fa024-9c9f-4199-a0ad-73306db65c8c",
   "metadata": {
    "jp-MarkdownHeadingCollapsed": true,
    "tags": []
   },
   "source": [
    "Configuration of the FEM mesh is defined in this block. This block is optional.\n",
    "\n",
    "- `FEM_mesh_output_switch [ON or OFF]`  \n",
    "Set - `ON` if FEM mesh data need to be written."
   ]
  },
  {
   "cell_type": "markdown",
   "id": "259912c5-0415-4c70-a39b-1b565ff5e8ea",
   "metadata": {
    "jp-MarkdownHeadingCollapsed": true,
    "tags": []
   },
   "source": [
    "#### Block `num_domain_ctl`"
   ]
  },
  {
   "cell_type": "markdown",
   "id": "ed365111-9536-4116-97c3-06aa88a7f591",
   "metadata": {
    "tags": []
   },
   "source": [
    "Parallelization is defined in this block.\n",
    "\n",
    "- `num_radial_domain_ctl [Ndomain]`  \n",
    "Number of subdomains in the radial direction for the spherical grid $(r, \\theta, \\phi)$ and spherical transforms $(r, \\theta, m)$ and $(r, l, m)$.\n",
    "\n",
    "- `num_horizontal_domain_ctl [Ndomain]`  \n",
    "Number of subdomains in the horizontal direction. The number will be the number of subdomains for the meridional directios for the spherical grid $(r, \\theta, \\phi)$ and Fourier transform $(r, \\theta, m)$. For Legendre transform $(r, \\theta, m)$ and $(r, l, m)$, the number will be the number of subdomains for the harmonics ordedr $m$.\n",
    "\n",
    "- `ordering_set_ctl [ORDERING_SET]` (Optional)  \n",
    "  Ordering set of spherical harmonics and grid data is defined. The following text parameter set [ORDERING_SET] is available. If [ORDERING_SET] is not defined, ordering set for `Ver_2` is chosen.\n",
    "|`Flag`| Description |\n",
    "|:-|:-|\n",
    "|`Ver_2 | Optimized ordering for Ver. 2.|\n",
    "|`Ver_1 | Original data ordering for Ver. 1.x |\n",
    "\n",
    "\n",
    "- <code><span style='color: red;'>(Deprecated) array num_domain_sph_grid  [Direction]  [Ndomain]</span></code>  \n",
    "Definition of number of subdomains for physical data in spherical coordinate $(r, \\theta, \\phi)$. Direction `radial`  or  `meridional` is set in [Direction], and number of subdomains [Ndomain] are defined in the integer field.\n",
    "\n",
    "- <code><span style='color: red;'>(Deprecated) array num_domain_legendre  [Direction]  [Ndomain]</span></code>  \n",
    "Definition of number of subdomains for Legendre transform between $(r, \\theta, m)$ and $(r, l, m)$. Direction `radial` or `zonal` is set in [Direction], and number of subdomains [Ndomain] are defined in the integer field.\n",
    "\n",
    "- <code><span style='color: red;'>(Deprecated) array num_domain_spectr  [Direction]  [Ndomain]</span></code>  \n",
    "Definition of number of subdomains for spectrum data in $(r, l, m)$. Only Direction flag `modes<\\code> is set in the [Direction] field, and number of subdomains [Ndomain] are defined in the integer field.\n"
   ]
  },
  {
   "cell_type": "markdown",
   "id": "0c74c461-4fc6-4da5-bd9e-26da787d6d39",
   "metadata": {
    "jp-MarkdownHeadingCollapsed": true,
    "tags": []
   },
   "source": [
    "#### Block `shell_define_ctl` (Previously `num_grid_sph`)"
   ]
  },
  {
   "cell_type": "markdown",
   "id": "5b5567d8-8d92-40ae-8898-8db7010ff71e",
   "metadata": {},
   "source": [
    "Spatial resolution of the spherical shell is defined in this block. Old block name `num_grid_sph` is also accept as this block label.\n",
    "\n",
    "- `sph_center_coef_ctl [TYPE]`\n",
    "Set flag `with_center` into `[type]` to include spherical harmonics coefficient for $l = m = 0$. This fliag is required when temperature or composition is solved to the center.\n",
    "\n",
    "- `sph_grid_type_ctl [TYPE]`\n",
    "Set spherical shell grid type for visualization. The follwing types are avaiable. Default value is `no_pole`.\n",
    "\n",
    "|`[Type]`| Description |\n",
    "|:-|:-|\n",
    "|`no_pole` | Spherical shell grid is only generated from grids on Gauss-Legendle points on latitude. Corequently, small empty tube (circle on a sphere surface) has to be made in visualization.|\n",
    "|`with_pole` | Grid points are added at poles in the grids. There is still empty sphere in the whole sphre grid. |\n",
    "|`with_center` |radial_grid_type_ctl. |\n",
    "\n",
    "- `truncation_level_ctl [Lmax]`  \n",
    "Truncation level $L$ is defined by integer. The triangular truncation is applied as\n",
    "$$\n",
    "f(\\theta,\\phi) = \\sum_{l=0}^{L}\\sum_{m=-l}^{l} f_{l}^{m} Y_{l}^{m}\n",
    "$$\n",
    "\n",
    "- `longitude_symmetry_ctl [M_sym]`  \n",
    "Longitudinal folding symmtery `[M_sym]` is defeined by integer. If `[M_sym]` is more than 1, only spherical harmonics \n",
    "\n",
    "- `ngrid_meridonal_ctl [Ntheta]`  \n",
    "Number of grid in the meridional direction $N_{\\theta}$ is defined by integer [Ntheta]. $N_{\\theta}$ needs to satisfy $N_{\\theta} > 1.5 L$.\n",
    "\n",
    "- `ngrid_zonal_ctl [Nphi]`  \n",
    "Number of grid in the zonal direction $N_{\\phi}$ is defined by integer [Nphi]. $N_{\\phi}$ needs to satisfy $N_{\\phi} = 2 N_{\\theta}$.\n",
    "\n",
    "- `radial_grid_type_ctl [Type]`  \n",
    "Type of the radial grid spacing is defined by [Type]. The following types are supported in Calypso.\n",
    "\n",
    "|`[Type]`| Description |\n",
    "|:-|:-|\n",
    "|`Chebyshev` | Chebyshev collocation points |\n",
    "|`equi_distance` | Equi-distance grid |\n",
    "|`explicit` | Set explicitly by `r_layer` array|\n",
    "\n",
    "- `num_fluid_grid_ctl [Nr_shell]`  \n",
    "Number of layer in the fluid shell [Nr_shell] is defined by integer . Number of grids including CMB and ICB will be ([Nr_shell] + 1).  \n",
    "(This parameter is ignored if `radial_grid_type_ctl` is `explicit`.)\n",
    "\n",
    "- `fluid_core_size_ctl [Length]`  \n",
    "Size of the outer core `[Length]` $ = r_{o}-r_{i}$ is defined by real.\n",
    "(This option works with `radial_grid_type_ctl` is `explicit` or `Chebyshev`.)\n",
    "\n",
    "- `ICB_to_CMB_ratio_ctl [R_ratio]`  \n",
    "Ratio of the inner core radius to outer core [R_ratio]| ($ = r_{i} / r_{o}$) is defined by real.  \n",
    "(This parameter is ignored if `radial_grid_type_ctl` is `explicit`.)\n",
    "\n",
    "- `Min_radius_ctl [Rmin]`  \n",
    "Minimum radius of the domains [Rmin] is defined by real. If this value is not defined, ICB becomes inner boundary of the domain.\n",
    "(This parameter is ignored if `radial_grid_type_ctl` is `explicit`.)\n",
    "\n",
    "- `Max_radius_ctl [Rmax]`  \n",
    "Maximum radius of the domains [Rmax] is defined by real. If this value is not defined, CMB becomes outer boundary of the domain.  \n",
    "(This parameter is ignored if `radial_grid_type_ctl` is `explicit`.)\n",
    "\n",
    "- `Array r_layer [Layer #] [Radius]`  \n",
    "List of the radial grid points in the simulation domain. Index of the radial point [Layer #] is defined by integer, and radius [Radius] is defined by real. This array works when [radial_grid_type_ctl] is `explicit<\\code>.\n",
    "\n",
    "- `Array add_external_layer [Radius]`  \n",
    "List of additional radial grid points. More grid points can be added in the Chebyshev or equi-distance grid. Radius of the additional points [Radius] is defined by real.\n",
    "\n",
    "- `Array boundaries_ctl [Boundary_name] [Layer #]`  \n",
    "Boundaries of the simulation domain is defined by [Layer #] in [r_layer] array. The following boundary name can be defined for [Boundary_name]|. Arbitorary name can be set for [Boundary_name], but the following boundaries are reserved when `radial_grid_type_ctl` is `Chebyshev` or `explicit`.  \n",
    "\n",
    "|`[Boundary_name]`| Description |\n",
    "|:-|:-|\n",
    "|`to_Center`| Inner boundary of the domain to fill the center. |\n",
    "|`ICB`| ICB |\n",
    "|`CMB`| CMB |\n",
    "\n",
    "\n",
    "\n",
    "\n",
    "\n",
    "\n"
   ]
  },
  {
   "cell_type": "markdown",
   "id": "51c57e38-ffaf-4cfc-ab56-2d938b841c9b",
   "metadata": {
    "tags": []
   },
   "source": [
    "### Block `model`\n"
   ]
  },
  {
   "cell_type": "markdown",
   "id": "529da804-a8ce-4df7-9dcb-870bd4d762d5",
   "metadata": {
    "tags": []
   },
   "source": [
    "Simulation model is defined in this block."
   ]
  },
  {
   "cell_type": "markdown",
   "id": "d115e143-126c-419c-8e18-ffa39f95918c",
   "metadata": {
    "tags": []
   },
   "source": [
    "#### Block `phys_values_ctl`"
   ]
  },
  {
   "cell_type": "markdown",
   "id": "c030397f-eb41-4935-aacc-4d99676db888",
   "metadata": {
    "jp-MarkdownHeadingCollapsed": true,
    "tags": []
   },
   "source": [
    "Fields in the model are defined.\n",
    "\n",
    "-Array `nod_value_ctl [Field] [VIZ_flag] [Monitor_flag]`  \n",
    "Thie first parameter is the field name. The field name is listed below.  The second parameter is for the visualization output flag as \n",
    "|Flag| Description|\n",
    "|:-|:-|\n",
    "|`Viz_on` | Included into the field output file|\n",
    "|`Viz_off` | Excluded from the field output file|\n",
    "  \n",
    "The third parameter is for the spectrum monitor output flag as \n",
    "|Flag| Description|\n",
    "|:-|:-|\n",
    "| `Viz_on` | Included into monitoring data|\n",
    "| `Viz_off` | Excluded from monitoring data|"
   ]
  },
  {
   "cell_type": "markdown",
   "id": "7b9e2659-51a3-4f34-a123-3b89605c194d",
   "metadata": {
    "tags": []
   },
   "source": [
    "##### List of Base field"
   ]
  },
  {
   "cell_type": "markdown",
   "id": "2852455a-08e2-4416-a2bd-d82eb71e36f9",
   "metadata": {
    "jp-MarkdownHeadingCollapsed": true,
    "tags": []
   },
   "source": [
    "|`[Label]` | Field name | `     `Math expression`     ` |\n",
    "|:-|:-|:-|\n",
    "|`velocity` |    Velocity | ${\\bf u}$ |\n",
    "|`vorticity` |   Vorticity | ${\\bf \\omega} = \\nabla \\times {\\bf u} $ |\n",
    "|`pressure` |    Pressure | $P$ |\n",
    "|`temperature` | Temperature | $T$ |\n",
    "|`perturbation_temp` | Perturbation of temperature | $\\Theta = T - T_{0}$ |\n",
    "|`heat_source` | Heat source | $q_{T}$ |\n",
    "|`composition` | Composition variation | $C$ |\n",
    "|`composition_source` | Composition source | $q_{C}$ |\n",
    "|`magnetic_field` |  Magnetic field  | ${\\bf B}$ |\n",
    "|`current_density` | Current density | ${\\bf J} = \\nabla \\times {\\bf B} $ |\n",
    "|`electric_field` | Electric field | ${\\bf E} = \\sigma \\left({\\bf J} - {\\bf u} \\times {\\bf B}\\right) $ |\n",
    "|`truncated_magnetic_field` | Truncated Magnetic field at $Lt$ | $\\sum_{l=1}^{Lt} {\\bf B}_{l}^{m}$ |"
   ]
  },
  {
   "cell_type": "markdown",
   "id": "20895d95-f3f2-48bd-9be4-995dc03ac98b",
   "metadata": {
    "tags": []
   },
   "source": [
    "##### List of Forces"
   ]
  },
  {
   "cell_type": "markdown",
   "id": "bd007313-4af8-48e0-baff-ae9756bc032e",
   "metadata": {},
   "source": [
    "|`[Label]` | Field name | `     `Math expression`     ` |\n",
    "|:-|:-|:-|\n",
    "|`viscous_diffusion` | Viscous diffusion | $-\\nu \\nabla \\times \\nabla \\times {\\bf u}$ |\n",
    "|`inertia` | Inertia term |  $ -{\\bf \\omega} \\times {\\bf u} $ |\n",
    "|`buoyancy` | Thermal buoyancy |  $ -\\alpha_{T} T {\\bf g}  $ |\n",
    "|`composite_buoyancy` | Compositional buoyancy |  $ -\\alpha_{C} C{\\bf g}  $|\n",
    "|`Lorentz_force` | Lorentz force |  $ {\\bf J} \\times {\\bf B} $ |\n",
    "|`Coriolis_force` | Coriolis force |  $ -2 \\Omega \\hat{z} \\times {\\bf u} $ |\n",
    "|`pressure_gradient` | Pressure gradient |  $  - \\nabla P  $ |\n",
    "|`rest_of_geostrophic` | Rest of geostrophic balance |  $ - \\nabla P - 2 \\Omega \\hat{z} \\times {\\bf u} $ |\n",
    "|`thermal_diffusion` | Thermal diffusion | $ \\kappa_{T} \\nabla^{2} T $ |\n",
    "|`grad_temp` | Temperature gradient | $ \\nabla T$ |\n",
    "|`heat_flux` | Advective heat flux | $ {\\bf u} T$ |\n",
    "|`heat_advect` | Heat advection | $ {\\bf u} \\cdot \\nabla T = \\nabla \\cdot \\left(  {\\bf u} T \\right) $ |\n",
    "|`composition_diffusion` | Compositional diffusion | $ \\kappa_{C} \\nabla^{2} C $ |\n",
    "|`grad_composition` | Composition gradient | $ \\nabla C$ |\n",
    "|`composite_flux` | Advective composition flux | $ {\\bf u} C$ |\n",
    "|`composition_advect` | Compositional advection | $ {\\bf u} \\cdot \\nabla C = \\nabla \\cdot \\left(  {\\bf u} C \\right) $ |\n",
    "|`magnetic_diffusion` | Magnetic diffusion | $-\\eta \\nabla \\times \\nabla \\times {\\bf B}$ |\n",
    "|`vecp_induction` | Induction for the vector potential |  $ {\\bf u} \\times {\\bf B} $ |\n",
    "|`magnetic_induction` | Magnetic induction |  $ \\nabla \\times \\left({\\bf u} \\times {\\bf B}\\right) $ |\n",
    "|`poynting_flux` | Poynting flux |  $ {\\bf E} \\times {\\bf B} $ |\n"
   ]
  },
  {
   "cell_type": "markdown",
   "id": "8a2c2e12-e529-4104-a3ac-128852bbd3f8",
   "metadata": {
    "tags": []
   },
   "source": [
    "##### List of products of fields and differenciation of forces"
   ]
  },
  {
   "cell_type": "markdown",
   "id": "e553b158-01fd-4cc6-b40c-79771354b1a3",
   "metadata": {},
   "source": [
    "|`[Label]` | Field name | `     `Math expression`     ` |\n",
    "|:-|:-|:-|\n",
    "|`rot_inertia` | Curl of inertia |  $ \\nabla \\times \\left({\\bf \\omega} \\times {\\bf u}\\right) $|\n",
    "|`rot_Lorentz_force` | Curl of Lorentz force |  $ \\nabla \\times \\left({\\bf J} \\times {\\bf B}\\right) $|\n",
    "|`rot_Coriolis_force` | Curl of Coriolis force |  $ -2 \\Omega \\nabla \\times \\left(\\hat{z} \\times {\\bf u} \\right) $|\n",
    "|`rot_buoyancy` | Curl of thermal buoyancy |  $ - \\nabla \\times \\left(\\alpha_{T} T {\\bf g}\\right)  $|\n",
    "|`rot_composite_buoyancy` | Curl of compositional buoyancy |  $ - \\nabla \\times \\left(\\alpha_{C} C{\\bf g}\\right)  $|\n",
    "|`Lorentz_work` | Work of Lorentz force | ${\\bf u}\\cdot \\left( {\\bf J} \\times {\\bf B} \\right) $| \n",
    "|`work_against_Lorentz` | Work against Lorentz force | $- {\\bf u}\\cdot \\left( {\\bf J} \\times {\\bf B} \\right) $| \n",
    "|`buoyancy_flux` | Thermal buoyancy flux | $ -\\alpha_{T} T {\\bf g} \\cdot {\\bf u} $|\n",
    "|`composite_buoyancy_flux` | Compositional buoyancy flux | $ -\\alpha_{c} C {\\bf g} \\cdot {\\bf u} $|\n",
    "|`magnetic_ene_generation` | Energy production by induction| $  {\\bf B} \\cdot \\left( {\\bf u} \\times {\\bf B} \\right) $| \n",
    "|`kinetic_helicity` | Kinetic helicity | $  {\\bf u} \\cdot {\\bf \\omega} $|\n",
    "|`current_helicity` | Current helicity | $  {\\bf B} \\cdot {\\bf J} $|\n",
    "|` cross_helicity` | Cross helicity$^{*}$ | $  {\\bf u} \\cdot {\\bf B} $|\n",
    "\n",
    "*: Magnetic helicity ${\\bf A} \\cdot {\\bf B} $ is not implimented.\n"
   ]
  },
  {
   "cell_type": "markdown",
   "id": "b5c583c0-c2c8-46c8-b95c-f286414cc552",
   "metadata": {
    "jp-MarkdownHeadingCollapsed": true,
    "tags": []
   },
   "source": [
    "##### List of fields with equatorial symmetry"
   ]
  },
  {
   "cell_type": "markdown",
   "id": "da155571-fa1d-481c-b359-7f6f32d89829",
   "metadata": {},
   "source": [
    "|`[Label] | `     `Math expression`     ` |\n",
    "|:-|:-|\n",
    "|`sym_velocity` | ${\\bf u}_{sym}$ | \n",
    "|`asym_velocity` | ${\\bf u}_{asym}$ |\n",
    "|`sym_vorticity` | ${\\bf \\omega}_{sym} = \\nabla \\times {\\bf u}_{asym} $ |\n",
    "|`asym_vorticity` | ${\\bf \\omega}_{asym} = \\nabla \\times {\\bf u}_{sym} $|\n",
    "|`sym_pressure`  |$P_{sym}$  |\n",
    "|`asym_pressure`  |$P_{a}$|\n",
    "|`sym_temperature` |$T_{sym}$ |\n",
    "|`asym_temperature`  |$T_{asym}$|\n",
    "|`sym_composition` |$C_{sym}$ |\n",
    "|`asym_composition` |$C_{asym}$|\n",
    "|`sym_magnetic_field` |${\\bf B}_{sym}$ |\n",
    "|`asym_magnetic_field`  |${\\bf B}_{asym}$|\n",
    "|`sym_current_density` |${\\bf J}_{sym} = \\nabla \\times {\\bf B}_{asym} $|\n",
    "|`asym_current_density` |${\\bf J}_{asym} = \\nabla \\times {\\bf B}_{sym} $|\n",
    "    \n",
    "The subscript $sym$ and $asym$ indicate equatorially symmetric and antisymmetric compoennts, respectively. "
   ]
  },
  {
   "cell_type": "markdown",
   "id": "bdc523c8-2a11-424d-83cf-24d41470e983",
   "metadata": {
    "jp-MarkdownHeadingCollapsed": true,
    "tags": []
   },
   "source": [
    "##### List of forces with equatorial symmetry"
   ]
  },
  {
   "cell_type": "markdown",
   "id": "ef0d1541-ab57-4071-92c9-65687d9b4a9c",
   "metadata": {},
   "source": [
    "|`[Label] | `     `Math expression`     ` |\n",
    "|:-|:-|\n",
    "|`sym_thermal_buoyancy` |  $ -\\alpha_{T} T_{sym} {\\bf g}  $|\n",
    "|`asym_thermal_buoyancy` |  $ -\\alpha_{T} T_{asym} {\\bf g}  $|\n",
    "|`sym_composite_buoyancy` |  $ -\\alpha_{C} C_{sym} {\\bf g}  $ |\n",
    "|`asym_composite_buoyancy` |  $ -\\alpha_{C} C_{asym} {\\bf g}  $|\n",
    "|`wsym_x_usym`  |$ {\\bf \\omega}_{sym} \\times {\\bf u}_{sym} $ |\n",
    "|`wasym_x_uasym`  |$ {\\bf \\omega}_{asym} \\times {\\bf u}_{asym} $|\n",
    "|`wsym_x_uasym`  |$ {\\bf \\omega}_{sym} \\times {\\bf u}_{asym} $ |\n",
    "|`wasym_x_usym`  |$ {\\bf \\omega}_{asym} \\times {\\bf u}_{sym} $|\n",
    "|`Jsym_x_Bsym`  |$ {\\bf J}_{sym} \\times {\\bf B}_{sym} $ |\n",
    "|`Jasym_x_Basym`  |$ {\\bf J}_{asym} \\times {\\bf B}_{asym} $|\n",
    "|`Jsym_x_Basym`  |$ {\\bf J}_{sym} \\times {\\bf B}_{asym} $|\n",
    "|`Jasym_x_Bsym` 　|$ {\\bf J}_{asym} \\times {\\bf B}_{sym} $|\n",
    "|`usym_x_Bsym`  |$ {\\bf u}_{sym} \\times {\\bf B}_{sym} $|\n",
    "|`uasym_x_Basym`  |$ {\\bf u}_{asym} \\times {\\bf B}_{asym} $|\n",
    "|`usym_x_Basym` 　|$ {\\bf u}_{sym} \\times {\\bf B}_{asym} $|\n",
    "|`uasym_x_Bsym` 　|$ {\\bf u}_{asym} \\times {\\bf B}_{sym} $|\n"
   ]
  },
  {
   "cell_type": "markdown",
   "id": "5451dc1f-4045-45d1-910e-042d251e5a19",
   "metadata": {
    "jp-MarkdownHeadingCollapsed": true,
    "tags": []
   },
   "source": [
    "##### List of energy fluxes with equatorial symmetry"
   ]
  },
  {
   "cell_type": "markdown",
   "id": "a496d686-25cb-4597-8f3b-2f080a74d501",
   "metadata": {},
   "source": [
    "|`[Name] | `     `Math expression`     ` |\n",
    "|:-|:-|\n",
    "|`sym_buoyancy_flux` $ - {\\bf u}_{sym}  \\cdot  \\alpha_{T} T_{sym} {\\bf g}  $ |\n",
    "|`asym_buoyancy_flux`  | $ - {\\bf u}_{asym}  \\cdot  \\alpha_{T} T_{asym} {\\bf g}  $ |\n",
    "|`sym_composite_buoyancy` | $ -\\alpha_{C}  \\cdot   C_{sym} {\\bf g}  $ |\n",
    "|`asym_composite_buoyancy` | $ -\\alpha_{C}  \\cdot   C_{asym} {\\bf g}  $ |\n",
    "|`-ua_d_ws_x_us` | $  {\\bf u}_{asym} \\cdot \\left( {\\bf \\omega}_{sym} \\times {\\bf u}_{sym} \\right)$ |\n",
    "|`-ua_d_wa_x_ua`  | $ {\\bf u}_{asym} \\cdot  \\left( {\\bf \\omega}_{asym} \\times {\\bf u}_{asym} \\right)$ |\n",
    "|`-us_d_ws_x_ua`  | $ {\\bf u}_{sym} \\cdot  \\left( {\\bf \\omega}_{sym} \\times {\\bf u}_{asym} \\right)$ |\n",
    "|`-us_d_wa_x_us` | $ {\\bf u}_{sym} \\cdot  \\left( {\\bf \\omega}_{asym} \\times {\\bf u}_{sym} \\right)$ |\n",
    "|`ua_d_js_x_bs`  | $ {\\bf u}_{asym} \\cdot \\left({\\bf J}_{sym} \\times {\\bf B}_{sym} \\right) $ |\n",
    "|`ua_d_ja_x_ba`  | $ {\\bf u}_{asym}  \\cdot  \\left({\\bf J}_{asym} \\times {\\bf B}_{asym} \\right) $ |\n",
    "|`us_d_js_x_ba`  | $ {\\bf u}_{sym}  \\cdot  \\left({\\bf J}_{sym} \\times {\\bf B}_{asym} \\right) $ |\n",
    "|`us_d_ja_x_bs`  | $ {\\bf u}_{sym}  \\cdot  \\left({\\bf J}_{asym} \\times {\\bf B}_{sym} \\right) $ |\n",
    "\n",
    "\n",
    "\n"
   ]
  },
  {
   "cell_type": "markdown",
   "id": "94993b3e-49e8-408d-abb5-dd1f35d226b5",
   "metadata": {
    "jp-MarkdownHeadingCollapsed": true,
    "tags": []
   },
   "source": [
    "#### Block `time_evolution_ctl`"
   ]
  },
  {
   "cell_type": "markdown",
   "id": "ba27894c-80a0-4bee-b1af-562dd45a3477",
   "metadata": {},
   "source": [
    "Fields for time evolution are defined in this block.\n",
    "\n",
    "- Array `time_evo_ctl  [Field]`  \n",
    "Fields name for time evolution are listed in this array in [Field] by text.\n",
    "Available fields are the following:\n",
    "\n",
    "|`[Label]` | Field name | `     `Math expression`     ` |\n",
    "|:-|:-|:-|\n",
    "|`velocity` |    Velocity | ${\\bf u}$ |\n",
    "|`magnetic_field` |  Magnetic field  | ${\\bf B}$ |\n",
    "|`temperature` | Temperature | $T$ |\n",
    "|`composition` | Composition | $C$ |\n",
    "\n"
   ]
  },
  {
   "cell_type": "markdown",
   "id": "b77b260a-3559-4320-9a71-df0186065ae5",
   "metadata": {
    "jp-MarkdownHeadingCollapsed": true,
    "tags": []
   },
   "source": [
    "#### Block `boundary_condition`"
   ]
  },
  {
   "cell_type": "markdown",
   "id": "d021fe42-a702-47ba-9d34-c6f751a194d3",
   "metadata": {
    "jp-MarkdownHeadingCollapsed": true,
    "tags": []
   },
   "source": [
    "Boundary condition are set in this block.\n",
    "Boundary conditions are defined by array `[array_name] [Group] [Type] [Value]`.\n",
    "Position of boundary is defined in [Group]. The follwing label and boundary name defined in `boundaries_ctl` array can be used for [Group].\n",
    "\n",
    "|`[Group]` | Location | `     `Math expression`     ` |\n",
    "|:-|:-|:-|\n",
    "|`to_Center` | Center | $r = 0$ |\n",
    "|`ICB` | Inner boundary of the fluid shell  | $r_{i}$ |\n",
    "|`CMB` | Inner boundary of the fluid shell | $r_o$ |\n",
    "\n",
    "The boundary condition type [Type] depends on the field to be applied the boundary conditions.\n",
    "\n",
    "- Array `bc_velocity  [Group]  [Type]  [Value]`  \n",
    "Boundary conditions for velocity are defined by this array. The following [Type] can be applied for the velocity:\n",
    "|`[Type]` | Description |\n",
    "|:-|:-|\n",
    "|`non_slip_sph` | Non-slip boundary  |\n",
    "|`free_slip_sph` | Free-slip boundary  |\n",
    "|`rot_inner_core` | Rotatable inner core by Lorentz and viscous torque|\n",
    "|`rot_x` | Set constant rotation around $x$-axis |\n",
    "|`rot_y` | Set constant rotation around $y$-axis |\n",
    "|`rot_z` | Set constant rotation around $z$-axis |\n",
    "\n",
    "\n",
    "If `rot_inner_core` condition is set for the inner boundary of fluid shell `ICB`, inner core ($r < r_{i}$) rotation is solved by using viscous torque and Lorentz torque. This boundary condition can be used for `ICB`, and grid need to be filled to center. In the cases of `non_slip_sph`, `free_slip_sph`, and `rot_inner_core`, real value is required in [Value], but they value is not used.  \n",
    "The rotation around the arbitorary vector can be defined by setting the [Value] for `rot_x`, `rot_y`, and `rot_z`.\n",
    "\n",
    "- Array `bc_magnetic_field  [Group]  [Type]  [Value]`  \n",
    "Boundary conditions for magnetic field are defined by this array. The following boundary conditions are available for magnetic field in [Type] column.  \n",
    "|`[Type]` | Description |\n",
    "|:-|:-|\n",
    "|`insulator` | Magnetic field is connected to potential field at the boundary |\n",
    "|`sph_to_center` | If this condition is set at `to_Center`, magnetic field in conductive inner core ($r < r_{i}$) is solved.  |\n",
    "|`pseudo_vacuum` | Magetic field has only radial componenet at the specified boundary |\n",
    "\n",
    "- Array `bc_temperature  [Group]  [Type]  [Value]`  \n",
    "Boundary conditions for temperature are defined by this array. Position of boundary is defined in [Group], and type of boundary conditions are  defined in [Type]. The value of the boundary condition is set in [Value].\n",
    "\n",
    "The Following boundary condition can be applied for the temperature and composiiton:\n",
    "|`[Type]` | Description |\n",
    "|:-|:-|\n",
    "|`fixed` | Fixed homogeneous temperature |\n",
    "|`fixed_file` | Fixed temperature defined by external file |\n",
    "|`fixed_flux` | Fixed homogeneous temperature gradient |\n",
    "|`fixed_flux_file` | Fixed temperature gradient defined by external file|\n",
    "|`to_Center` | zero temperature gradient at $r = r_{0}$|\n",
    "\n",
    "The positive flux is definrd by the direction from insuide of the fluid to outside of the fluid. Consequently, $dT/dr$ is used for the iiner bounday, and $-dT/dr$ is used for the outer boundary.\n",
    "\n",
    "- Array `bc_composition  [Group]  [Type]  [Value]`  \n",
    "Boundary conditions for composition variation are defined by this array. The available boundary conditions are the same for the temperature boundary conditions `bc_temperature`.\n"
   ]
  },
  {
   "cell_type": "markdown",
   "id": "c656d204-b035-4876-9112-36430da94af6",
   "metadata": {
    "jp-MarkdownHeadingCollapsed": true,
    "tags": []
   },
   "source": [
    "#### Block `forces_define`"
   ]
  },
  {
   "cell_type": "markdown",
   "id": "275ee4a9-cb35-416e-b987-33a348336579",
   "metadata": {
    "jp-MarkdownHeadingCollapsed": true,
    "tags": []
   },
   "source": [
    "Forces for the momentum equation are defined by array `force_ctl` in this block.\n",
    "\n",
    "- Array `force_ctl  [Force]`  \n",
    "Name of forces for momentum equation are listed in \\verb|[Force]| by text.\n",
    "The following fields are available.\n",
    "\n",
    "|`[Label]` | Force name | `     `Math expression`     ` |\n",
    "|:-|:-|:-|\n",
    "|`Coriolis_force` | Coriolis force |  $ -2 \\Omega \\hat{z} \\times {\\bf u} $ |\n",
    "|`Lorentz_force` | Lorentz force |  $ {\\bf J} \\times {\\bf B} $ |\n",
    "|`gravity`  | Thermal buoyancy |  $ -\\alpha_{T} T {\\bf g}  $ |\n",
    "|`Composite_gravity` | Compositional buoyancy |  $ -\\alpha_{C} C{\\bf g}  $|\n",
    "\n"
   ]
  },
  {
   "cell_type": "markdown",
   "id": "5b661b94-2687-48b4-a832-ee77284c648d",
   "metadata": {
    "jp-MarkdownHeadingCollapsed": true,
    "tags": []
   },
   "source": [
    "#### Block `dimensionless_ctl`"
   ]
  },
  {
   "cell_type": "markdown",
   "id": "c8678405-4efb-425a-b4a3-709f6a5f66d1",
   "metadata": {},
   "source": [
    "Dimensionless numbers are defined by array `dimless_ctl` in this block.\n",
    "\n",
    "- Array `dimless_ctl [Name] [Value]`  \n",
    "Dimensionless numbers are listed in this array. The name is defined in [Name] by text, and value is defined in [Value] by real. These name of the dimensionless numbers are used to construct coefficients for each terms in governing equations. The following reserved names can not be used because of reserved name in the program.\n",
    "\n",
    "|`[Name]` | Description | `   `Value`   ` |\n",
    "|:-|:-|:-|\n",
    "|`Zero`| zero | $0.0$ |\n",
    "|`One`| one | $1.0$ |\n",
    "|`Two`| two | $ 2.0$ |\n",
    "|`Radial_35`| $1 / r_{o}$ | $0.65 = 13/20$ |\n",
    "\n",
    "The block editor for the control data [Instance] including `dimensionless_ctl` block is opend in the following command:  \n",
    "\n",
    "`[Widget_instance] = Dimless_ctl_Editor([Instance])`  \n",
    "\n"
   ]
  },
  {
   "cell_type": "code",
   "execution_count": 28,
   "id": "511f8887-47b5-4ce6-99cc-d9b17702aa36",
   "metadata": {},
   "outputs": [
    {
     "data": {
      "application/vnd.jupyter.widget-view+json": {
       "model_id": "7afb2ff8ea9645a1a94a34340e87d49d",
       "version_major": 2,
       "version_minor": 0
      },
      "text/plain": [
       "Output()"
      ]
     },
     "metadata": {},
     "output_type": "display_data"
    },
    {
     "data": {
      "application/vnd.jupyter.widget-view+json": {
       "model_id": "54e1ddd5dc244a8f8e5d6f70fb668300",
       "version_major": 2,
       "version_minor": 0
      },
      "text/plain": [
       "Textarea(value='      array dimless_ctl 6\\n        dimless_ctl  Pr                   1.0e-0\\n        dimless_c…"
      ]
     },
     "metadata": {},
     "output_type": "display_data"
    },
    {
     "data": {
      "application/vnd.jupyter.widget-view+json": {
       "model_id": "9fc2ec3ac06c4bb695187cadcea834e5",
       "version_major": 2,
       "version_minor": 0
      },
      "text/plain": [
       "Button(button_style='success', description='Update Equation', style=ButtonStyle())"
      ]
     },
     "metadata": {},
     "output_type": "display_data"
    },
    {
     "data": {
      "application/vnd.jupyter.widget-view+json": {
       "model_id": "589ca33d43a0493aba6181f42b122ad7",
       "version_major": 2,
       "version_minor": 0
      },
      "text/plain": [
       "Output()"
      ]
     },
     "metadata": {},
     "output_type": "display_data"
    }
   ],
   "source": [
    "a = Dimless_ctl_Editor(ctl)"
   ]
  },
  {
   "cell_type": "markdown",
   "id": "19a4b39f-7b4e-4d63-b3be-dc956e68642b",
   "metadata": {
    "jp-MarkdownHeadingCollapsed": true,
    "tags": []
   },
   "source": [
    "#### Block `coefficients_ctl`"
   ]
  },
  {
   "cell_type": "markdown",
   "id": "70515ec6-db0f-4d84-a725-15ff92db62e2",
   "metadata": {},
   "source": [
    "Coefficients of each term in governing equations are defined in this block.\n",
    "Each coefficients are defined by list of name of dimensionless number [Name] and its power [Power]. The name of dimensionless number is chosen from the [Name] in `dimless_ctl` array and reserved numbers.\n",
    "\n",
    "The special block editor for the control data for `coefficients_ctl` block is ready to check the governing equations.\n",
    "\n"
   ]
  },
  {
   "cell_type": "markdown",
   "id": "56444d60-6e86-4989-8211-ada46ebc4a91",
   "metadata": {
    "tags": []
   },
   "source": [
    "##### Block `momentum`"
   ]
  },
  {
   "cell_type": "markdown",
   "id": "78e5909a-04f5-40df-afe6-25886910ef61",
   "metadata": {},
   "source": [
    "Coefficients of each term in momentum equation are defined in this block.\n",
    "\n",
    "- Array `coef_4_velocity_ctl [Name] [Power]`  \n",
    "Coefficient for evolution of velocity $\\partial {\\bf u} / \\partial t$ (or $\\partial {\\bf \\omega} / \\partial t$ for the vorticity equation) and advection $-{\\bf \\omega} \\times {\\bf u}$ (or $- \\nabla \\times \\left({\\bf \\omega} \\times {\\bf u} \\right)$) for the vorticity equation) is defined by this array.\n",
    "\n",
    "- Array `coef_4_press_ctl [Name] [Power]`  \n",
    "Coefficient for pressure gradient $-\\nabla P$ is defined by this array. Pressure does not appear the vorticity equation which is used for the time integration. But this coefficient is used to evaluate pressure field.\n",
    "\n",
    "- Array `coef_4_v_diffuse_ctl [Name] [Power]`  \n",
    "Coefficient for viscous diffusion $- \\nu \\nabla \\times \\nabla \\times {\\bf u}$ is defined by this array.\n",
    "\n",
    "- Array `coef_4_Coriolis_ctl [Name] [Power]`  \n",
    "Coefficient for Coriolis force $-2 \\Omega \\hat{z} \\times{\\bf u}$ is defined by this array.\n",
    "\n",
    "- Array `coef_4_Lorentz_ctl [Name] [Power]`  \n",
    "Coefficient for Lorentz force $ \\rho_{0}^{-1} {\\bf J} \\times {\\bf B}$ is defined by this array.\n",
    "\n",
    "\n",
    "- Array `coef_4_buoyancy_ctl [Name] [Power]`  \n",
    "Coefficient for buoyancy $- \\alpha_{T} T {\\bf g}$ is defined by this array.\n",
    "\n",
    "- Array `coef_4_composit_buoyancy_ctl [Name] [Power]`  \n",
    "Coefficient for compositional buoyancy $ -\\alpha_{C} C {\\bf g}$ is defined by this array.\n",
    "\n",
    "\n",
    "The special block editor for the control data for `momentum` block is ready to check the equation.\n"
   ]
  },
  {
   "cell_type": "markdown",
   "id": "6d99d2aa-de73-4aa3-bd49-6ac646d286bf",
   "metadata": {
    "tags": []
   },
   "source": [
    "##### Block `induction`"
   ]
  },
  {
   "cell_type": "markdown",
   "id": "5a3b64f4-efdd-4847-9b33-242078ceea8c",
   "metadata": {},
   "source": [
    "Coefficients of each term in magnetic induction equation are defined in this block.\n",
    "\n",
    "- Array `coef_4_magnetic_ctl [Name] [Power]`  \n",
    "Coefficient for evolution of magnetic field $\\partial {\\bf B} / \\partial t$ is defined by this array.\n",
    "\n",
    "- Array `coef_4_m_diffuse_ctl [Name] [Power]`  \n",
    "Coefficient for magnetic diffusion $ -\\eta \\nabla \\times \\nabla \\times {\\bf B}$ is defined by this array.\n",
    "\n",
    "- Array `coef_4_induction_ctl [Name] [Power]`  \n",
    "Coefficient for magnetic induction $\\nabla \\times \\left({\\bf u} \\times {\\bf B} \\right)$ is defined by this array.\n",
    "\n",
    "\n",
    "The special block editor for the control data for `induction` block is ready to check the equation.\n",
    "\n"
   ]
  },
  {
   "cell_type": "markdown",
   "id": "4eb30bd7-1d45-4bb5-a564-d1f65e899ba2",
   "metadata": {
    "tags": []
   },
   "source": [
    "##### Block `thermal`"
   ]
  },
  {
   "cell_type": "markdown",
   "id": "4af83ab4-330a-4fe9-9ba7-5b5b8debd85d",
   "metadata": {},
   "source": [
    "Coefficients of each term in heat equation are defined in this block.\n",
    "\n",
    "- Array `coef_4_termal_ctl [Name] [Power]`  \n",
    "Coefficient for evolution of temperature $\\partial T / \\partial t$ and advection of heat $\\left({\\bf u} \\cdot \\nabla \\right) T$ is defined by this array. If [Zero] is set for the coefficient, static solution (diffusive profile) is solved.\n",
    "- Array `coef_4_t_diffuse_ctl [Name] [Power]`  \n",
    "Coefficient for thermal diffusion $\\kappa_{T} \\nabla^{2} T$ is defined by this array.\n",
    "- Array `coef_4_heat_source_ctl [Name] [Power]`  \n",
    "Coefficient for heat source $ q_{T}$ is defined by this array.\n",
    "\n",
    "The special block editor for the control data for `compositon` block is ready to check the equation.\n"
   ]
  },
  {
   "cell_type": "markdown",
   "id": "d17cac48-bc08-4dc3-836e-dc319492d436",
   "metadata": {
    "tags": []
   },
   "source": [
    "##### Block `composition`"
   ]
  },
  {
   "cell_type": "markdown",
   "id": "1a721761-c083-4648-b9cb-075baa9a6bec",
   "metadata": {},
   "source": [
    "Coefficients of each term in compoisition equation are defined in this block.\n",
    "\n",
    "- Array `coef_4_composition_ctl [Name] [Power]`  \n",
    "Coefficient for evolution of composition $\\partial C / \\partial t$ and advection of composition $\\left({\\bf u} \\cdot \\nabla \\right) C$ is defined by this array. If [Zero] is set for the coefficient, static solution (diffusive profile) is solved.\n",
    "- Array `coef_4_c_diffuse_ctl [Name] [Power]`  \n",
    "Coefficient for compositional diffusion $\\kappa_{C} \\nabla^{2} C$ is defined by this array.\n",
    "- Array `coef_4_composition_source_ctl [Name] [Power]`  \n",
    "Coefficient for composition source $ q_{C}$ is defined by this array.\n",
    "\n",
    "The special block editor for the control data for `compositon` block is ready to check the equation.\n",
    "\n"
   ]
  },
  {
   "cell_type": "markdown",
   "id": "d790f753-f70c-46b1-a5d9-f6828dd493b8",
   "metadata": {
    "jp-MarkdownHeadingCollapsed": true,
    "tags": []
   },
   "source": [
    "#### Block `temperature_define`"
   ]
  },
  {
   "cell_type": "markdown",
   "id": "40fc6f0c-e0ee-486a-b881-9f47ce7faf5e",
   "metadata": {
    "jp-MarkdownHeadingCollapsed": true,
    "tags": []
   },
   "source": [
    "Reference of temperature $T_{0}$ is defined in this block. If reference of temperature is defined, perturbation of temperature $\\Theta = T - T_{0}$ is used for time evolution and buoyancy.\n",
    "\n",
    "- `ref_temp_ctl [Reference_type]`  \n",
    "Type of reference temperature is defined by text. The following options are available for [Reference_type].\n",
    "\n",
    "|`[Reference_type]` | Description |\n",
    "|:-|:-|\n",
    "|`none` | Reference of temperature is not defined. Temperature $T$ is used to time evolution and thermal buoyancy.\n",
    " |\n",
    "|`file` | Read reference temperature from data file defined by `radial_field_file_name` in Block `data_files_def`. The reference temperature is interpolated into the radial grid in the simulation.|\n",
    "|`numerical_solution` | Reference temperature obtained from the given boundary condition and radial heat source by $0 = \\nabla^{2} T_{0} + q_{0}$|\n",
    "|`spherical_shell` |  Reference of temperature is set by$T_{0} = \\displaystyle{\\frac{1}{\\left(r_{h}-r_{l} \\right)} \\left[\n",
    "          r_{l}T_{l} - r_{h}T_{h} + \\frac{r_{l} r_{h}}{r} \\left(T_{h}-T_{l}\\right) \\right]}$.|\n",
    "\n",
    "- `ref_field_file_name [File_name]`  \n",
    " Set [File\\_Name] for the reference temperature is defined . (I as text. The file is not written when `ref_temp_ctl` is `none`. The output file can be used as a input file for the reference temperature `radial_field_file_name`. (I recommend to change the file name to avoid overwriting.)\n",
    "\n",
    "##### `Block low_temp_ctl`\n",
    "Amplitude of low reference temperature $T_{l}$ and its radius $r_{l}$ (Generally $r_{l} = r_{o}$) are defined in this block.\n",
    "\n",
    "- `depth [Radius]`  \n",
    "Radius for reference the reference is defined by real.\n",
    "- `temperature [Temperature]`  \n",
    "Temperature for the reference is defined by real.\n",
    "\n",
    "##### `Block high_temp_ctl`  \n",
    "Amplitude of high reference temperature $T_{h}$ and its radius $r_{h}$ (Generally $r_{h} = r_{i}$) are defined in this block.\n",
    "\n",
    "- `depth [Radius]`  \n",
    "Radius for reference the reference is defined by real.\n",
    "- `temperature [Temperature]`  \n",
    "Temperature for the reference is defined by real."
   ]
  },
  {
   "cell_type": "markdown",
   "id": "82f37dbd-5524-418b-a827-c8066b586f02",
   "metadata": {
    "jp-MarkdownHeadingCollapsed": true,
    "tags": []
   },
   "source": [
    "#### Block `composition_define`"
   ]
  },
  {
   "cell_type": "markdown",
   "id": "df13c41e-a9b1-4c6f-bf3f-24af63c1e6d1",
   "metadata": {
    "tags": []
   },
   "source": [
    "Reference of composition $C_{0}$ is defined in this block. If reference of composition is defined, perturbation of composition $\\Theta_{C} = C - C_{0}$ is used for time evolution and buoyancy.\n",
    "\n",
    "- `ref_comp_ctl [Reference_type]`  \n",
    "Type of reference composition is defined by text. The following options are available for [Reference_type].\n",
    "\n",
    "|`[Reference_type]` | Description |\n",
    "|:-|:-|\n",
    "|`none` | Reference of composition is not defined. Composition $C$ is used to time evolution and thermal buoyancy.\n",
    " |\n",
    "|`file` | Read reference composition from data file defined by `radial_field_file_name` in Block `data_files_def`. The reference composition is interpolated into the radial grid in the simulation.|\n",
    "|`numerical_solution` | Reference composition obtained from the given boundary condition and radial heat source by $0 = \\nabla^{2} C_{0} + q_{0}$|\n",
    "|`spherical_shell` |  Reference composition is set by$C_{0} = \\displaystyle{\\frac{1}{\\left(r_{h}-r_{l} \\right)} \\left[\n",
    "          r_{l}C_{l} - r_{h}C_{h} + \\frac{r_{l} r_{h}}{r} \\left(C_{h}-C_{l}\\right) \\right]}$.|\n",
    "\n",
    "- `ref_field_file_name [File_name]`  \n",
    " Set [File\\_Name] for the reference composition is defined . (I as text. The file is not written when `ref_comp_ctl` is `none`. The output file can be used as a input file for the reference composition `radial_field_file_name`. (I recommend to change the file name to avoid overwriting.)\n",
    "\n",
    "##### `Block low_comp_ctl`\n",
    "Amplitude of low reference composition $C_{l}$ and its radius $r_{l}$ (Generally $r_{l} = r_{o}$) are defined in this block.\n",
    "\n",
    "- `depth [Radius]`  \n",
    "Radius for reference the reference is defined by real.\n",
    "- `composition [Composition]`  \n",
    "Composition for the reference is defined by real.\n",
    "\n",
    "##### `Block high_comp_ctl`  \n",
    "Amplitude of high reference composition $C_{h}$ and its radius $r_{h}$ (Generally $r_{h} = r_{i}$) are defined in this block.\n",
    "\n",
    "- `depth [Radius]`  \n",
    "Radius for reference the reference is defined by real.\n",
    "- `composition [Composition]`  \n",
    "composition for the reference is defined by real."
   ]
  },
  {
   "cell_type": "markdown",
   "id": "13a813f9-f653-4796-bb4f-cc19e4c54a11",
   "metadata": {
    "jp-MarkdownHeadingCollapsed": true,
    "tags": []
   },
   "source": [
    "### Block `control`"
   ]
  },
  {
   "cell_type": "markdown",
   "id": "bd8fd4cf-1c22-4ea2-86e0-bf051faa1e7d",
   "metadata": {
    "tags": []
   },
   "source": [
    "Time steppings, restarting, and algorithm are defined in this block."
   ]
  },
  {
   "cell_type": "markdown",
   "id": "7bf25a32-0be2-4153-92f4-d01d3cbc56b9",
   "metadata": {
    "jp-MarkdownHeadingCollapsed": true,
    "tags": []
   },
   "source": [
    "#### Block `time_step_ctl`"
   ]
  },
  {
   "cell_type": "markdown",
   "id": "eff6e375-86ec-4f4c-9815-28001f420f12",
   "metadata": {
    "jp-MarkdownHeadingCollapsed": true,
    "tags": []
   },
   "source": [
    "Time steppings, restarting, and algorithm are defined in this block.\n",
    "\n",
    "- `elapsed_time_ctl [ELAPSED_TIME]`  \n",
    "Elapsed (wall clock) time (second) for simulation `[ELAPSED_TIME]` is defined by real. \n",
    "This parameter varies if end step `[ISTEP_FINISH]` is defined to `-1`. If simulation runs for given time, program output restart data with prefix `[rst_prefix]` immediately, and finish the simulation.\n",
    "\n",
    "- `i_step_init_ctl [ISTEP_START]`  \n",
    "Start step of simulation `[ISTEP_START]` is defined by integer. if `[ISTEP_START]` is set to {\\tt -1} and `[INITIAL_TYPE]` is set to `start_from_rst_file`, program read spectrum data file with prefix `[rst_prefix]` and start the simulation.\n",
    "\n",
    "- `i_step_finish_ctl [ISTEP_FINISH]`  \n",
    "End step of simulation `[ISTEP_FINISH]` is defined by integer. If this value is set to `-1`, simulation stops when elapsed time reaches to `[ELAPSED_TIME]`.\n",
    "\n",
    "- `i_step_check_ctl [ISTEP_MONITOR]`  \n",
    "Increment of time step for monitoring data `[ISTEP_MONITOR]` is defined by integer.\n",
    "\n",
    "- `i_step_rst_ctl [ISTEP_RESTART]`  \n",
    "Increment of time step to output spectrum data for restarting `[ISTEP_RESTART]` is defined by integer.\n",
    "\n",
    "- `i_step_field_ctl [ISTEP_FIELD]`  \n",
    "Increment of time step to output field data for visualization `[ISTEP_FIELD]` is defined by integer. If `[ISTEP_FIELD]` is set to be 0, no field data are written.\n",
    "\n",
    "- `i_step_sectioning_ctl [ISTEP_SECTION]`  \n",
    "Increment of time step to output cross section data for visualization `[ISTEP_SECTION]` is defined by integer. If `[ISTEP_SECTION]` is set to be 0, no cross section data are written. If `[ISTEP_SECTION]` is set in the block `visual_control`, The value in `visual_control` is used.\n",
    "\n",
    "- `i_step_isosurface_ctl [ISTEP_ISOSURFACE]`  \n",
    "Increment of time step to output isosurface data for visualization `[ISTEP_ISOSURFACE]` is defined by integer. If `[ISTEP_ISOSURFACE]` is set to be 0, no isosurface data are written.If `[ISTEP_ISOSURFACE]` is set in the block `visual_control`, The value in `visual_control` is used.\n",
    "\n",
    "- `dt_ctl [DELTA_TIME]`  \n",
    "Length of time step $\\Delta t$ is defined by real value.\n",
    "\n",
    "- `time_init_ctl [INITIAL_TIME]`  \n",
    "Initial time $t_{0}$ is defined by real value. This value is ignored if simulation starts from restart data.\n"
   ]
  },
  {
   "cell_type": "markdown",
   "id": "2b1715a2-aa55-48b8-a0a5-b23e75cec32f",
   "metadata": {
    "tags": []
   },
   "source": [
    "#### Block `new_time_step_ctl` (only for assemble program)"
   ]
  },
  {
   "cell_type": "markdown",
   "id": "69c7aa56-836d-4a5a-9d25-ae1cd26c2f14",
   "metadata": {
    "tags": []
   },
   "source": [
    "Time stepping parameters to update initial data are defined in this block. This block is only used for `assemble_MHD`. Items in this block is the same as `time_step_ctl`, the following control parameters are used. \n",
    "\n",
    "- `i_step_init_ctl [ISTEP_START]`  \n",
    "Set new time step number `[ISTEP_START]` is defines as integer.\n",
    "- `time_init_ctl [INITIAL_TIME]`  \n",
    "Set new time `[INITIAL_TIME]` is defines as real."
   ]
  },
  {
   "cell_type": "markdown",
   "id": "d054f51c-9fc1-4da5-b9bd-7ad70e800d47",
   "metadata": {
    "tags": []
   },
   "source": [
    "#### Block `restart_file_ctl`"
   ]
  },
  {
   "cell_type": "markdown",
   "id": "16009a54-d67a-4eb2-a5a0-f349fbd8e3a4",
   "metadata": {
    "jp-MarkdownHeadingCollapsed": true,
    "tags": []
   },
   "source": [
    "Initial field for restarting is defined in this block.\n",
    "\n",
    "- `rst_ctl [INITIAL_TYPE]`  \n",
    "Type of Initial field is defined by text. The following parameters are available for `[INITIAL_TYPE]`.\n",
    "\n",
    "|`[INITIAL_TYPE]` | Description |\n",
    "|:-|:-|\n",
    "|`No_data` |No initial data file. Small temperature perturbation and seed dipole magnetic field are set as an initial field.|\n",
    "|`start_from_rst_file` |Initial field is read from spectrum data file. File prefix is defined by `restart_file_prefix`|\n",
    "|`Dynamo_benchmark_0` | Generate initial field for dynamo benchmark case 0|\n",
    "|`Dynamo_benchmark_1` | Generate initial field for dynamo benchmark case 1|\n",
    "|`Dynamo_benchmark_2` | Generate initial field for dynamo benchmark case 2|\n",
    "|`Pseudo_vacuum_benchmark` | Generate initial field for pseudo vacuum dynamo benchmark|\n",
    "\n",
    "\n"
   ]
  },
  {
   "cell_type": "markdown",
   "id": "260af560-97b9-4cdb-8b36-e8963f059b11",
   "metadata": {
    "tags": []
   },
   "source": [
    "#### Block `time_loop_ctl`"
   ]
  },
  {
   "cell_type": "markdown",
   "id": "51391e5b-d4ca-4cfd-abee-00dccd995aae",
   "metadata": {
    "tags": []
   },
   "source": [
    "Time evolution scheme is defined in this block.\n",
    "\n",
    "- `coef_implicit_ctl [COEF_INPLICIT]`  \n",
    "Coefficients for the implicit parts of the Crank-Nicolson scheme for all diffusion terms `[COEF_INPLICIT]` is defined by real.\n",
    "\n",
    "- `coef_imp_v_ctl [COEF_INP_U]`  \n",
    "Coefficients for the implicit parts of the Crank-Nicolson scheme for viscous diffusion `[COEF_INP_U]` is defined by real.\n",
    "\n",
    "- `coef_imp_t_ctl [COEF_INP_T]`  \n",
    "Coefficients for the implicit parts of the Crank-Nicolson scheme for thermal diffusion `[COEF_INP_T]` is defined by real.\n",
    "\n",
    "- `coef_imp_b_ctl [COEF_INP_B]`  \n",
    "Coefficients for the implicit parts of the Crank-Nicolson scheme for magnetic diffusion `[COEF_INP_B]` is defined by real.\n",
    "\n",
    "- `coef_imp_c_ctl [COEF_INP_C]`  \n",
    "Coefficients for the implicit parts of the Crank-Nicolson scheme for compositional diffusion `[COEF_INP_C]` is defined by real. \n",
    "\n",
    "- `FFT_library_ctl [FFT_Name]`  \n",
    "FFT library name for Fourier transform is defined by text. The following libraries are available for `[FFT_Name]`. \n",
    "If this flag is not defined, `FFTW` is chosen if FFTW library is included.\n",
    "\n",
    "|`[FFT_Name]` | Description |\n",
    "|:-|:-|\n",
    "|`FFTW` |Use FFTW|\n",
    "|`FFTPACK` |Use FFTW|\n",
    "|`Search_fastest` |Compare elapsed time of FFTW and FFTPACK at the initialization and choose faster one.|\n",
    "\n",
    "\n",
    "- `Legendre_trans_loop_ctl [Leg_Loop]`  \n",
    "Loop configuration for Legendre transform is defined by text. The following settings are available for `[Leg_Loop]`. \n",
    "If this flag is not defined, `Symmetric_matmul_big` is chosen as a default value because `Symmetric_matmul_big` is the fastest approarch in many platforms. In the all spherical transform, equatorial syymetry is taken into account.\n",
    "\n",
    "|`[Leg_Loop]` | Description |\n",
    "|:-|:-|\n",
    "|`Symmetric_original_loop` |Set radial loop as the inner most loop for Legendre transform.|\n",
    "|`Symmetric_outer_radial_loop` |Set radial loop as the outmost loop for Legendre transform.|\n",
    "|`Symmetric_matmul` |Use Fortran90's intrinsic function for matrix-matrix products for each components.|\n",
    "|`Symmetric_matmul_big` |Use Fortran90's intrinsic function for matrix-matrix products. The matrix operation is combined for all radial and fielc components.|\n",
    "|`Symmetric_BLAS_big` |Use BLAS library for matrix-matrix products if BLAS library is linked. The matrix operation is combined for all radial and fielc components.|\n",
    "|`On_the_fly_Plm` |Evaluate Legendre polynomial in every Legendre transforms.|\n",
    "|`Search_fastest` |Compare elapsed time among above six approarch at the initialization and choose the fastest one.|\n"
   ]
  },
  {
   "cell_type": "markdown",
   "id": "5b0dcf09-43f0-4120-8e4a-480afa6d1866",
   "metadata": {
    "tags": []
   },
   "source": [
    "### Block `sph_monitor_ctl`"
   ]
  },
  {
   "cell_type": "markdown",
   "id": "45bfa1df-be1a-4dcf-acc2-bd98d7eb11d0",
   "metadata": {
    "tags": []
   },
   "source": [
    "Monitoring data is defined in this block. Monitoring data output (mean square, average, Gauss coefficients, or specific components of spectrum data) are flagged by `Monitor_On` in `nod_value_ctl` array.  \n",
    "\n",
    "- `volume_average_prefix [vol_ave_prefix]`  \n",
    "File prefix for volume average data `[vol_ave_prefix]` is defined by Text. Program add `.dat` or `.dat.gz` extension after this file prefix. If this file prefix is not defined, volume average data file is not generated. \n",
    "\n",
    "- `volume_pwr_spectr_prefix [vol_pwr_prefix]`  \n",
    "File prefix for mean square spectrum data averaged over the fluid shell `[vol_pwr_prefix]` is defined by Text.  \n",
    "Spectrum as a function of degree $l$ is written in `[vol_pwr_prefix]_l.dat[.gz]`, spectrum as a function of order $m$ is written in `[vol_pwr_prefix]_m.dat[.gz]`, and spectrum as a function of $(l-m)$ is written in `[vol_pwr_prefix]_lm.dat[.gz]`. This prefix is also used for the file name of the volume average of mean square data as `[vol_pwr_prefix]_s.dat.[gz]`.\n",
    "If this file prefix is not defined, volume average of mean square data file `sph_pwr_volume_s.dat[.gz]` is only generated.\n",
    "\n",
    "- `volume_pwr_spectr_format [file_format]`  \n",
    "File format for mean square spectrum data averaged over the fluid shell. The following formats are avaiable for `[file_format]`. The default value is `ASCII`. If the mean square data file exist, this setting is ignored and append data to the existing file.\n",
    "\n",
    "|`[file_format]` | Description |\n",
    "|:-|:-|\n",
    "|`ASCII` | Text data. |\n",
    "|`gzip`  | Text data is compressed by the gzip format.|\n",
    "\n",
    "- `degree_spectra_switch [ON/OFF]`  \n",
    "Switch to output the power spectrum data as a function of spherical harmonic degree $l$. Default value is `ON`.\n",
    "- `order_spectra_switch [ON/OFF]`  \n",
    "Switch to output the power spectrum data as a function of spherical harmonic order $m$. Default value is `ON`.\n",
    "\n",
    "- `diff_lm_spectra_switch [ON/OFF]`  \n",
    "Switch to output the power spectrum data as a function of difference of spherical harmonic order from degree $l-m$. Default value is `ON`.\n",
    "\n",
    "- `axisymmetric_power_switch [ON/OFF]`  \n",
    "Switch to output the mean square data for the axisymmetric component. Default value is `ON`.\n",
    "\n",
    "- `nusselt_number_prefix [nusselt_number_prefix]`  \n",
    "File prefix for Nusselt number data at ICB and CMB `[nusselt_number_prefix]` is defined by Text. Program add `.dat` or `.dat.gz` extension after this file prefix. If this file prefix is not defined, Nusselt number data file is not generated.  \n",
    "{\\bf CAUTION: Nusselt number is not evaluated if heat source exsists.}\n",
    "\n",
    "- `nusselt_number_format [nusselt_number_format]`  \n",
    "File format for the Nusselt number data. The following formats are avaiable for `[file_format]`. The default value is `ASCII`. If the Nusselt data file exist, this setting is ignored and append data to the existing file.\n",
    "\n",
    "|`[file_format]` | Description |\n",
    "|:-|:-|\n",
    "|`ASCII` | Text data. |\n",
    "|`gzip`  | Text data is compressed by the gzip format.|"
   ]
  },
  {
   "cell_type": "markdown",
   "id": "b772429c-8390-47ea-ab25-b3bddd58ef21",
   "metadata": {
    "jp-MarkdownHeadingCollapsed": true,
    "tags": []
   },
   "source": [
    "#### Array Block `volume_spectrum_ctl`"
   ]
  },
  {
   "cell_type": "markdown",
   "id": "085ec1b7-4e6f-4346-b111-9c5f159711f9",
   "metadata": {},
   "source": [
    "Volume average of power spectrum and mean square data between any radius range are defined in this block. \n",
    "\n",
    "To specify `i`-th volume spectrum control block in the control editor, Add `[i]` at the end of `volume_spectrum_ctl` as:\n",
    "\n",
    "`c = Control_Block_Editor(ctl, 'sph_monitor_ctl volume_spectrum_ctl[i]')`  \n",
    "\n",
    "The entire array block can be edited by setting `i` = 0.  \n",
    "\n",
    "- `volume_average_prefix [vol_ave_prefix]`  \n",
    "File prefix for volume average data `[vol_ave_prefix]` is defined by Text. Program add `.dat` or `.dat.gz` extension after this file prefix. If this file prefix is not defined, volume average data file is not generated. \n",
    "\n",
    "- `volume_pwr_spectr_prefix [vol_pwr_prefix]`  \n",
    "File prefix for mean square spectrum data averaged over the fluid shell `[vol_pwr_prefix]` is defined by Text.  \n",
    "Spectrum as a function of degree $l$ is written in `[vol_pwr_prefix]_l.dat[.gz]`, spectrum as a function of order $m$ is written in `[vol_pwr_prefix]_m.dat[.gz]`, and spectrum as a function of $(l-m)$ is written in `[vol_pwr_prefix]_lm.dat[.gz]`. This prefix is also used for the file name of the volume average of mean square data as `[vol_pwr_prefix]_s.dat[.gz]`.\n",
    "If this file prefix is not defined, volume average of mean square data file `sph_pwr_volume_s.dat[.gz]` is only generated.\n",
    "\n",
    "- `volume_pwr_spectr_format [file_format]`  \n",
    "File format for mean square spectrum data averaged over the fluid shell. The following formats are avaiable for `[file_format]`. The default value is `ASCII`. If the mean square data file exist, this setting is ignored and append data to the existing file.\n",
    "\n",
    "|`[file_format]` | Description |\n",
    "|:-|:-|\n",
    "|`ASCII` | Text data. |\n",
    "|`gzip`  | Text data is compressed by the gzip format.|\n",
    "\n",
    "- `inner_radius_ctl [radius]`  \n",
    "Inner boundary of the volume average `[radius]` is defined. The closest radial grid point is chosen as a inner boundary of averaging.\n",
    "\n",
    "- `outer_radius_ctl [radius]`  \n",
    "Outer boundary of the volume average `[radius]` is defined. The closest radial grid point is chosen as the outer boundary of averaging.\n",
    "\n",
    "- `degree_spectra_switch [ON/OFF]`  \n",
    "Switch to output the power spectrum data as a function of spherical harmonic degree $l$. Default value is `ON`.\n",
    "- `order_spectra_switch [ON/OFF]`  \n",
    "Switch to output the power spectrum data as a function of spherical harmonic order $m$. Default value is `ON`.\n",
    "\n",
    "- `diff_lm_spectra_switch [ON/OFF]`  \n",
    "Switch to output the power spectrum data as a function of difference of spherical harmonic order from degree $l-m$. Default value is `ON`.\n",
    "\n",
    "- `axisymmetric_power_switch [ON/OFF]`  \n",
    "Switch to output the mean square data for the axisymmetric component. Default value is `ON`.\n",
    "\n"
   ]
  },
  {
   "cell_type": "markdown",
   "id": "608dac39-b3a2-422b-973b-2147e8db1c22",
   "metadata": {
    "jp-MarkdownHeadingCollapsed": true,
    "tags": []
   },
   "source": [
    "#### Block `layered_spectrum_ctl`"
   ]
  },
  {
   "cell_type": "markdown",
   "id": "996c3e0b-7bc6-4e5a-b8fd-afb78134f3d2",
   "metadata": {
    "tags": []
   },
   "source": [
    "Sphere average, power spectrum and mean square data are defined in this block.\n",
    "\n",
    "- `layered_pwr_spectr_prefix [layer_pwr_prefix]`  \n",
    "File prefix for mean square spectrum data averaged over each sphere surface `[layer_pwr_prefix]` is defined by Text.\n",
    "\n",
    "- `layered_pwr_spectr_format [file_format]`  \n",
    "File format for mean square spectrum data averaged over the fluid shell. The following formats are avaiable for `[file_format]`. The default value is `ASCII`. If the mean square data file exist, this setting is ignored and append data to the existing file.\n",
    "\n",
    "|`[file_format]` | Description |\n",
    "|:-|:-|\n",
    "|`ASCII` | Text data. |\n",
    "|`gzip`  | Text data is compressed by the gzip format.|\n",
    "\n",
    "- Array `spectr_radius_ctl [Radius]`  \n",
    "List of radii `[Radius]` to output power spectrum data by real value. Rresults are evaluated by linear interpolation by surrounding two grids. If this array nor `spectr_layer_ctl` is not defined, layered mean square data are written for all radial grid points. \n",
    "\n",
    "- Array `spectr_layer_ctl [Layer #]`  \n",
    "List of radial grid point number `[Layer #]` to output power spectrum data by integer. If this array nor `spectr_radius_ctl` is not defined, layered mean square data are written for all radial grid points. \n",
    "\n",
    "- `degree_spectra_switch [ON/OFF]`  \n",
    "Switch to output the power spectrum data as a function of spherical harmonic degree $l$. Default value is `ON`.\n",
    "- `order_spectra_switch [ON/OFF]`  \n",
    "Switch to output the power spectrum data as a function of spherical harmonic order $m$. Default value is `ON`.\n",
    "\n",
    "- `diff_lm_spectra_switch [ON/OFF]`  \n",
    "Switch to output the power spectrum data as a function of difference of spherical harmonic order from degree $l-m$. Default value is `ON`.\n",
    "\n",
    "- `axisymmetric_power_switch [ON/OFF]`  \n",
    "Switch to output the mean square data for the axisymmetric component. Default value is `ON`.\n",
    "\n",
    "\n"
   ]
  },
  {
   "cell_type": "markdown",
   "id": "5ed2f6b3-a892-49f6-8880-a358e17cce3f",
   "metadata": {
    "jp-MarkdownHeadingCollapsed": true,
    "tags": []
   },
   "source": [
    "#### Block `gauss_coefficient_ctl`"
   ]
  },
  {
   "cell_type": "markdown",
   "id": "af8aa30f-fe0c-4f25-89e1-46039df0cefe",
   "metadata": {
    "tags": []
   },
   "source": [
    "Gauss coefficients data at specified radius are defined in this block.\n",
    "\n",
    "- `gauss_coefs_prefix [gauss_coef_prefix]`  \n",
    "File prefix for Gauss coefficients `[gauss_coef_prefix]` is defined by Text. Program add `.dat` or `.dat.gz` extension after this file prefix. If this file prefix is not defined, Gauss coefficients data are not generated. \n",
    "\n",
    "- `gauss_coefs_format [file_format]`  \n",
    "File format for the Gauss coefficients number data. The following formats are avaiable for `[file_format]`. The default value is `ASCII`. If the Nusselt data file exist, this setting is ignored and append data to the existing file.\n",
    "\n",
    "|`[file_format]` | Description |\n",
    "|:-|:-|\n",
    "|`ASCII` | Text data. |\n",
    "|`gzip`  | Text data is compressed by the gzip format.|\n",
    "\n",
    "\n",
    "- `gauss_coefs_radius_ctl [Radius]`  \n",
    "Normalized radius to obtain Gauss coefficients \\verb|[gauss_coef_radius]| is defined by real. Gauss coefficients are evaluated from the poloidal magnetic field at CMB by assuming electrically insulated mantle. Do not set \\verb|[gauss_coef_radius]| less than the outer core radius $r_{o}$.\n",
    "\n",
    "- Array `pick_gauss_coefs_ctl [Degree]  [Order]`  \n",
    "List of spherical harmonics mode $l$ and $m$ of Gauss coefficients to output. `[Degree]` and `[Order]` are defined by integer. This array can be defined with `pick_gauss_coef_degree_ctl` and `pick_gauss_coef_order_ctl`\n",
    "\n",
    "- Array `pick_gauss_coef_degree_ctl [Degree]`  \n",
    "Degrees $l$ to output Gauss coefficients are listed in `[Degree]` by integer. All Gauss coefficients with listed $l$ is output in file.  This array can be defined with `pick_gauss_coefs_ctl` and `pick_gauss_coef_order_ctl`\n",
    "\n",
    "- Array `pick_gauss_coef_order_ctl [Order]`  \n",
    "Orders $m$ to output Gauss coefficients are listed in `[Order]` by integer. All Gauss coefficients with listed order $m$ is output in file. This array can be defined with `pick_gauss_coefs_ctl` and `pick_gauss_coef_degree_ctl`\n"
   ]
  },
  {
   "cell_type": "markdown",
   "id": "b4c7a2c9-58f9-4af9-9723-8807df75c03e",
   "metadata": {
    "jp-MarkdownHeadingCollapsed": true,
    "tags": []
   },
   "source": [
    "#### Block `pickup_spectr_ctl`"
   ]
  },
  {
   "cell_type": "markdown",
   "id": "0b75a188-088d-4f9f-abfa-5334f5bd7225",
   "metadata": {},
   "source": [
    "Spherical harmonic coefficients data output is defined in this block.\n",
    "\n",
    "- `picked_sph_prefix [picked_sph_prefix]`  \n",
    "File prefix for picked spectrum data files `[picked_sph_prefix]` is defined by Text. The output file name will be `[picked_sph_prefix]_l[degree]_m[order][c/s].dat.[gz]`. After this file prefix and save each mode of spherical harmonics coefficients data file. If this file prefix is not defined, picked spectrum data are not generated. Because data files are generated for each spherical harmonics mode, we recommend to save these files in a sub directory.\n",
    "\n",
    "- `picked_sph_format [file_format]`  \n",
    "File format for the picked spectrum data files. The following formats are avaiable for `[file_format]`. The default value is `ASCII`. If data files exist, this setting is ignored and append data to the existing file.\n",
    "\n",
    "|`[file_format]` | Description |\n",
    "|:-|:-|\n",
    "|`ASCII` | Text data. |\n",
    "|`gzip`  | Text data is compressed by the gzip format.|\n",
    "\n",
    "\n",
    "- Array `pick_radius_ctl [gauss_coef_prefix]`  \n",
    "List of radii `[Radius]` to output picked spectrum data by real. Results are obtained by linear interpolation from the surrounding radial grids. If this array nor array this array  nor `pick_layer_ctl` is not defined, picked spectrum data are written for all radial grid points.\n",
    "\n",
    "- Array `pick_layer_ctl [gauss_coef_prefix]`  \n",
    "List of radial grid point number `[Layer #]` to output picked spectrum data by integer. If this array nor array this array  nor `pick_radius_ctl` is not defined, picked spectrum data are written for all radial grid points.\n",
    "\n",
    "- Array `pick_sph_spectr_ctl [Degree]  [Order]`  \n",
    "List of spherical harmonics mode $l$ and $m$ of speherical harmonics coeffifient data to output. `[Degree]` and `[Order]` are defined by integer. This array can be defined with `pick_sph_degree_ctl` and `pick_sph_order_ctl`\n",
    "\n",
    "- Array `pick_sph_degree_ctl [Degree]`  \n",
    "Degrees $l$ to output speherical harmonics coeffifient data are listed in `[Degree]` by integer. All speherical harmonics coeffifient data with listed $l$ is output in file.  This array can be defined with `pick_sph_spectr_ctl` and `pick_sph_order_ctl`\n",
    "\n",
    "- Array `pick_sph_order_ctl [Order]`  \n",
    "Orders $m$ to output speherical harmonics coeffifient data are listed in `[Order]` by integer. All speherical harmonics coeffifient data with listed order $m$ is output in file. This array can be defined with `pick_sph_spectr_ctl` and `pick_sph_degree_ctl`\n",
    "\n"
   ]
  },
  {
   "cell_type": "markdown",
   "id": "55b2b9cb-e3b5-4a6e-8412-0b56e92a8734",
   "metadata": {
    "jp-MarkdownHeadingCollapsed": true,
    "tags": []
   },
   "source": [
    "#### Block `sph_dipolarity_ctl`"
   ]
  },
  {
   "cell_type": "markdown",
   "id": "87055653-fbcd-48ea-ab50-ad3c284bc9ba",
   "metadata": {
    "jp-MarkdownHeadingCollapsed": true,
    "tags": []
   },
   "source": [
    "Dipolrity data output is defined in this block.\n",
    "\n",
    "- `dipolarity_file_prefix [dipolarity_file_prefix]`  \n",
    "File prefix for dipolarity data files `[dipolarity_file_prefix]` is defined by Text. Program add `.dat` or `.dat.gz` extension after this file prefix and save dipolarity data. If this file prefix is not defined, dipolarity data are not generated.\n",
    "\n",
    "- `dipolarity_file_format [file_format]`  \n",
    "File format for the dipolarity data file. The following formats are avaiable for `[file_format]`. The default value is `ASCII`. If data file exist, this setting is ignored and append data to the existing file.\n",
    "\n",
    "|`[file_format]` | Description |\n",
    "|:-|:-|\n",
    "|`ASCII` | Text data. |\n",
    "|`gzip`  | Text data is compressed by the gzip format.|\n",
    "\n",
    "\n",
    "- `Array dipolarity_truncation_ctl [Degree]`  \n",
    "Truncation degrees $l$ to evaluate dipolarity is defined in `[Degree]` by integer. More than 1 truncations can be defined in this array. The dipolarity with the truncation degree of the simulation $L_{max}$ is automatically added in the data output.\n"
   ]
  },
  {
   "cell_type": "markdown",
   "id": "529286c9-cadd-4563-9630-41cc7a59316c",
   "metadata": {
    "jp-MarkdownHeadingCollapsed": true,
    "tags": []
   },
   "source": [
    "#### Block `dynamo_benchmark_data_ctl`"
   ]
  },
  {
   "cell_type": "markdown",
   "id": "b9485daa-e79f-442a-ae5a-b12d3acff6c2",
   "metadata": {
    "jp-MarkdownHeadingCollapsed": true,
    "tags": []
   },
   "source": [
    "Parameters to generate dynamo benchmark data.\n",
    "\n",
    "- `dynamo_benchmark_file_prefix [File_Prefix]`  \n",
    "File prefix for dynamo benchmark data `[File_Prefix]` is defined by Text. Program add `.dat` or `.dat.gz` extension after this file prefix and save dipolarity data. If this file prefix is not defined, dipolarity data are not generated.\n",
    "\n",
    "- `picked_sph_format [file_format]`  \n",
    "File format for the dynamo benchmark data file. The following formats are avaiable for `[file_format]`. The default value is `ASCII`. If data files exist, this setting is ignored and append data to the existing file.\n",
    "\n",
    "|`[file_format]` | Description |\n",
    "|:-|:-|\n",
    "|`ASCII` | Text data. |\n",
    "|`gzip`  | Text data is compressed by the gzip format.|\n",
    "\n",
    "- `nphi_mid_eq_ctl [Nphi_mid_equator]`  \n",
    "Number of grid points `[Nphi_mid_equator]` in longitudinal direction to evaluate mid-depth of the shell in the equatorial plane for dynamo benchmark is defined as integer. If `[Nphi_mid_equator]` is not defined or less than zero, `[Nphi_mid_equator]` is set set number grid as the input spherical transform data. \n",
    "\n"
   ]
  },
  {
   "cell_type": "markdown",
   "id": "22eda8ef-7347-41c3-861c-0357fca1b2ee",
   "metadata": {
    "jp-MarkdownHeadingCollapsed": true,
    "tags": []
   },
   "source": [
    "#### Array Block `fields_on_circle_ctl`"
   ]
  },
  {
   "cell_type": "markdown",
   "id": "a0c2987f-2d7c-4a1b-bb90-d33122729895",
   "metadata": {},
   "source": [
    "Parameters to generate data at along with circles. Each circle is defined in block `fields_on_circle_ctl`.\n",
    "\n",
    "- `field_on_circle_prefix [File_prefix]`  \n",
    "File prefix for dipolarity data files `[File_prefix]` is defined by Text. Program add `.dat` or `.dat.gz` extension after this file prefix and save dipolarity data. If this file prefix is not defined, dipolarity data are not generated.\n",
    "\n",
    "- `spectr_on_circle_prefix [File_prefix]`  \n",
    "File prefix for spectr data as a function of zonal wave number $m$ on the circle. Program add `.dat` or `.dat.gz` extension after this file prefix and save dipolarity data. If this file prefix is not defined, dipolarity data are not generated.\n",
    "\n",
    "- `field_on_circle_format [file_format]`  \n",
    "File format for the data files. The following formats are avaiable for `[file_format]`. The default value is `ASCII`. If data file exist, this setting is ignored and append data to the existing file.\n",
    "\n",
    "|`[file_format]` | Description |\n",
    "|:-|:-|\n",
    "|`ASCII` | Text data. |\n",
    "|`gzip`  | Text data is compressed by the gzip format.|\n",
    "\n",
    "- `pick_circle_coord_ctl [Coordinate]`  \n",
    "Coordinate system for vector fields are defeined by text. The followinf coordinate systems are avaiable:\n",
    "\n",
    "|`[Coordinate]` | Description |\n",
    "|:-|:-|\n",
    "|`spherical` | Spherical coordinate $(r, \\theta, \\phi)$ |\n",
    "|`cylindrical`  | Cylindrical coordinate $(s, \\phi, z)$ |\n",
    "\n",
    "- `pick_cylindrical_radius_ctl [S]`  \n",
    "Cylinderical radius of the circle `[S]` is defined as a real value.\n",
    "\n",
    "- `pick_vertical_position_ctl [Z]`  \n",
    "Vertical position of the circle `[Z]` is defined as a real value.\n"
   ]
  },
  {
   "cell_type": "markdown",
   "id": "b3e4e2e9-6ce6-4b98-8533-f84519fa371a",
   "metadata": {
    "jp-MarkdownHeadingCollapsed": true,
    "tags": []
   },
   "source": [
    "### Block `visual_control`"
   ]
  },
  {
   "cell_type": "markdown",
   "id": "997c7e8b-a78f-44b1-81f1-79071f863111",
   "metadata": {
    "jp-MarkdownHeadingCollapsed": true,
    "tags": []
   },
   "source": [
    "Visualization modules are defined in this block. Parameters for cross sections and isosurfaces are avaiable.\n",
    "\n",
    "#### Array Block `cross_section_ctl`\n",
    "\n",
    "Control parameters for cross sectioning are defined in this array block. External files can be used for each cross_section_ctl block. See description of [Cross section module section](#sectioning)\n",
    "\n",
    "#### Array Block `isosurface_ctl`\n",
    "\n",
    "Control parameters for isosurfacing are defined in this array block. External files can be used for each `isosurface_ctl` block. See description of [Isosurface module section](#isosurface)"
   ]
  },
  {
   "cell_type": "markdown",
   "id": "2d26d82a-f6f8-4584-96a8-4d712d2d5143",
   "metadata": {
    "jp-MarkdownHeadingCollapsed": true,
    "tags": []
   },
   "source": [
    "### Block `dynamo_vizs_control`"
   ]
  },
  {
   "cell_type": "markdown",
   "id": "2f75a478-0705-4d61-91d9-e70f14715ed8",
   "metadata": {
    "tags": []
   },
   "source": [
    "Visualization for zonal mean, RMS, and truncated magnetic field are defined in this block. Parameters for cross section is set for zonal mean and RMS, and spherical harmonics degree of the truncated magnetic field is also defined here. "
   ]
  },
  {
   "cell_type": "markdown",
   "id": "c8e9ccb3-f807-4330-ada0-2607053f5548",
   "metadata": {
    "jp-MarkdownHeadingCollapsed": true,
    "tags": []
   },
   "source": [
    "#### Block `crustal_filtering_ctl`"
   ]
  },
  {
   "cell_type": "markdown",
   "id": "335f9459-bb09-41fe-ade6-4af56c3d943f",
   "metadata": {
    "jp-MarkdownHeadingCollapsed": true,
    "tags": []
   },
   "source": [
    "Set the truncation degree to make the truncated magnetic field by the crustal magnetic field. \n",
    "\n",
    "- `truncation_degree_ctl [Degree]`  \n",
    "The spherical harmonics degree `[Degree]` of the truncated magnetic field is defined as integer\n",
    "\n"
   ]
  },
  {
   "cell_type": "markdown",
   "id": "6183ef3e-f7c2-4bc6-b623-498459da27c5",
   "metadata": {
    "jp-MarkdownHeadingCollapsed": true,
    "tags": []
   },
   "source": [
    "#### Block `zonal_mean_section_ctl`\n",
    "\n",
    "Control parameters for cross sectioning for zonal mean data is defined by using [Cross section module section](#sectioning). External file with the block `cross_section_ctl` can be used for the definision."
   ]
  },
  {
   "cell_type": "markdown",
   "id": "ae2d58af-14ed-4616-90bb-2c38a72d6779",
   "metadata": {
    "tags": []
   },
   "source": [
    "#### Block `zonal_RMS_section_ctl`\n",
    "\n",
    "Control parameters for cross sectioning for zonal R.M.S. data is defined by using [Cross section module section](#sectioning). External file with the block `cross_section_ctl` can be used for the definision."
   ]
  },
  {
   "cell_type": "markdown",
   "id": "4fcfef7f-38e1-4c4e-8b15-1ef8364517c5",
   "metadata": {
    "jp-MarkdownHeadingCollapsed": true,
    "tags": []
   },
   "source": [
    "# Description of control parameters for visualization modules\n",
    "\n",
    "The following section is the descriptions of control paramter for visualization modules in Calypso."
   ]
  },
  {
   "cell_type": "markdown",
   "id": "dbcebc32-9ca2-4e0c-84c6-75fe6b28125e",
   "metadata": {
    "jp-MarkdownHeadingCollapsed": true,
    "tags": []
   },
   "source": [
    "## Block `cross_section_ctl`\n",
    "<a id=\"sectioning\"></a>"
   ]
  },
  {
   "cell_type": "markdown",
   "id": "1210c65c-8955-44e3-a744-d2b031dabeea",
   "metadata": {},
   "source": [
    "Control parameters for cross sectioning are defined in this block. \n",
    "\n",
    "- `section_file_prefix [file_prefix]`  \n",
    "File prefix for cross section data is defined as character `[file_prefix]`.\n",
    "\n",
    "- `psf_output_type [file_format]`  \n",
    "File format for cross section data is defined as character `[file_format]`. The following formats are available:\n",
    "\n",
    "|`[file_format]` | Description |\n",
    "|:-|:-|\n",
    "|`VTK` | VTK format |\n",
    "|`VTK_gz`  | Compressed VTK format (Available if zlib library is linked)|\n",
    "|`PSF` |  Binary section data format |\n",
    "|`PSF_gz` | Compressed Binary section data format (Available if zlib library is linked) |\n"
   ]
  },
  {
   "cell_type": "markdown",
   "id": "0e39fc63-ca6d-4a41-849f-665165cf87de",
   "metadata": {
    "tags": []
   },
   "source": [
    "### Block `surface_define`"
   ]
  },
  {
   "cell_type": "markdown",
   "id": "1fdad87e-326c-4ec7-86b8-e64179b2bae5",
   "metadata": {},
   "source": [
    "Each cross section is defined in this block.\n",
    "\n",
    "- `section_method [METHOD]`  \n",
    "Method of the cross sectioning is defined as character `[METHOD]`. The following methond can be used:\n",
    "\n",
    "|`[METHOD]` | Description | `    `Math expression`    ` |\n",
    "|:-|:-|:-|\n",
    "|`equation` | Define quadrature surface by equation |$a x^2 + b y^2 + c z^2$ <cr> $+ d \\left(y x\\right) + e \\left(z x\\right) + f \\left(x y\\right) + g x + h y + i z + j = 0$|\n",
    "|`plane` |  Plane surface | $a \\left(x-x_{0} \\right) + b \\left(y-y_{0} \\right) + c \\left(z-z_{0} \\right) = 0$ |\n",
    "|`sphere`  | Sphere |$\\left(x-x_{0} \\right)^2 + \\left(y-y_{0} \\right)^2 + \\left(z-z_{0} \\right)^2 = r^2$|\n",
    "|`ellipsoid` | ellipsoid | $\\left(x-x_{0} \\right)^2 / a^{2} + \\left(y-y_{0} \\right)^2 / b^{2} + \\left(z-z_{0} \\right)^2 /c^{2} = 1$|\n",
    "\n",
    "- Array `psf_coefs_ctl [TERM] [COEFFICIENT]`  \n",
    "This array defines coefficients for a quadrature surface described by \n",
    "$\n",
    "a x^2 + b y^2 + c z^2 + d (y z) + e (z x) + f (x y) + g x + h y + i z + j = 0.\n",
    "$  \n",
    "Each coefficient $a$ to $k$ are defined by the name of the term `[TERM]` as shown in the below, and `[COEFFICIENT]` is defined by real value. Undefined terms are set to be 0.\n",
    "    \n",
    "|`[TERM]` | Math expression |`[TERM]` | Math expression |`[TERM]` | Math expression |\n",
    "|:-|:-|:-|:-|:-|:-|\n",
    "|`x2` | $a$ for $x^2$ |`y2` | $b$ for $y^2$ |`z2` | $c$ for $z^2$ |\n",
    "|`yz` | $d$ for $yz$ |`zx` | $e$ for $zx$ |`xy` | $f$ for $xy$ |\n",
    "|`x` | $g$ for $x$ |`y` | $h$ for $y$ |`z` | $i$ for $z$ |\n",
    "|`const` | $j$ ||||\n",
    "\n",
    "- `psf_radius [Radius]`  \n",
    "defines radius $r$ for a sphere surface defined by \n",
    "$\n",
    "\\left(x-x_{0} \\right)^2 + \\left(y-y_{0} \\right)^2 + \\left(z-z_{0} \\right)^2 = r^2. \n",
    "$\n",
    "\n",
    "- Array `psf_center_position [DIRECTION]  [COMPONENT]`  \n",
    "Position of center $(x_{0}, y_{0}, z_{0})$ of plane, sphere or ellipsoid for \n",
    "$\n",
    "a \\left(x-x_{0} \\right) + b \\left(y-y_{0} \\right) + c \\left(z-z_{0} \\right) = 0. \n",
    "$,  \n",
    "$\n",
    "\\left(x-x_{0} \\right)^2 + \\left(y-y_{0} \\right)^2 + \\left(z-z_{0} \\right)^2 = r^2\n",
    "$, or \n",
    "$\n",
    "\\left(x-x_{0} \\right)^2 / a^{2} + \\left(y-y_{0} \\right)^2 / b^{2} + \\left(z-z_{0} \\right)^2 /c^{2} = 1\n",
    "$.  \n",
    " Position on a plane surface $(x_{0}, y_{0}, z_{0})$ is also defined. Each component is defined by `[DIRECTION]`  as following, and real value `[COMPONENT]` is defined by real.\n",
    "\n",
    "|`[DIRECTION]` | Math expression |\n",
    "|:-|:-|\n",
    "|`x` | $x_0$ |\n",
    "|`y` | $y_0$ |\n",
    "|`z` | $z_0$ |\n",
    "\n",
    "- Array `psf_normal_vector [DIRECTION]  [COMPONENT]`  \n",
    "This array defines normal vector $(a, b, c)$ for a plane surface described by \n",
    "$\n",
    "a \\left(x-x_{0} \\right) + b \\left(y-y_{0} \\right) + c \\left(z-z_{0} \\right) = 0. \n",
    "$\n",
    "Each component is defined by `[DIRECTION]`  as following, and real value `[COMPONENT]` is defined by real.\n",
    "\n",
    "|`[DIRECTION]` | Math expression |\n",
    "|:-|:-|\n",
    "|`x` | $a$ for $x$ |\n",
    "|`y` | $b$ for $y$ |\n",
    "|`z` | $c$ for $z$ |\n",
    "\n",
    "- Array `psf_axial_length [DIRECTION]  [COMPONENT]`  \n",
    "This array defines size $(a, b, c)$ of an ellipsoid surface described by \n",
    "$\n",
    "\\left(x-x_{0} \\right)^2 / a^{2} + \\left(y-y_{0} \\right)^2 / b^{2} + \\left(z-z_{0} \\right)^2 /c^{2} = 1.\n",
    "$\n",
    "Each component is defined by `[DIRECTION]`  as following, and real value `[COMPONENT]` is defined by real.\n",
    "\n",
    "|`[DIRECTION]` | Math expression |\n",
    "|:-|:-|\n",
    "|`x` | $a$ for $x$ |\n",
    "|`y` | $b$ for $y$ |\n",
    "|`z` | $c$ for $z$ |\n",
    "\n",
    "- `Array section_area_ctl [AREA]`  \n",
    "Areas for the cross sectioning are defined in this array. The following area can be defined.\n",
    "\n",
    "|`[AREA]` | Description | Math expression |\n",
    "|:-|:-|:-|\n",
    "|`all` | Entire domain  | |\n",
    "|`inner_core` | inside of the inner boundary of the fluid shell | $r<r_{i}$  |\n",
    "|`outer_core` | the fluid shell | $r_{i}<r<r_{o}$  |\n",
    "|`external` | outside of the outer boundary of the fluid shell | $r_{o} < r$  |\n",
    "\n",
    "\n",
    "\n"
   ]
  },
  {
   "cell_type": "markdown",
   "id": "391873b6-e576-4c37-aab0-045b6bf26706",
   "metadata": {
    "jp-MarkdownHeadingCollapsed": true,
    "tags": []
   },
   "source": [
    "### Block `output_field_define`"
   ]
  },
  {
   "cell_type": "markdown",
   "id": "93d8248e-08f1-4a65-b34f-f57e6c39bd84",
   "metadata": {
    "tags": []
   },
   "source": [
    "Field data on the cross section are defined in this block. \n",
    "\n",
    "- Array `output_field [FIELD] [COMPONENT]`  \n",
    "Field informations for cross section are defined in this array. Name of the output fields is defined by `[FIELD]`, and component of the fields is defined by `[COMPONENT]`. Labels of the field name are in `nod_value_ctl`. Labels of the component are listed below:\n",
    "\n",
    "|`[COMPONENT]` | Field type |\n",
    "|:-|:-|\n",
    "|`scalar` | Scalar field  |\n",
    "|`vector` |  Cartesian vector field $(x, y, z)$ |\n",
    "|`spherical_vector` | spherical vector field $(r, \\theta, \\phi)$ |\n",
    "|`cylindrical_vector` | cylindrical vector field $(s, \\phi, z)$ |\n",
    "|`x` | $x$-component |\n",
    "|`y` | $y$-component |\n",
    "|`z` | $z$-component |\n",
    "|`radial` | radial ($r$-) component |\n",
    "|`theta` | $\\theta$-component |\n",
    "|`phi` | $\\phi$-component |\n",
    "|`cylinder_r` | cylindrical radial ($s$-) component |\n",
    "|`magnitude` | magnitude of vector $(x^2+y^2+z^2)$ |\n"
   ]
  },
  {
   "cell_type": "markdown",
   "id": "37ad6a2b-2c95-4a47-a307-41b62d69a659",
   "metadata": {
    "jp-MarkdownHeadingCollapsed": true,
    "tags": []
   },
   "source": [
    "## Block `isosurface_ctl`\n",
    "<a id=\"isosurface\"></a>"
   ]
  },
  {
   "cell_type": "markdown",
   "id": "f695fbb7-f80a-4e73-b395-86ad098b87bf",
   "metadata": {},
   "source": [
    "Control parameters for isosurfacing are defined in this block.\n",
    "\n",
    "\n",
    "- `isosurface_file_prefix [file_prefix]`  \n",
    "File prefix for isosurface data is defined as character `[file_prefix]`.\n",
    "\n",
    "- `iso_output_type [file_format]`  \n",
    "File format for isosurface data is defined as character `[file_format]`. The following formats are available:\n",
    "\n",
    "|`[file_format]` | Description |\n",
    "|:-|:-|\n",
    "|`VTK` | VTK format |\n",
    "|`VTK_gz`  | Compressed VTK format (Available if zlib library is linked)|\n",
    "|`ISO` |  Binary isosurface data format |\n",
    "|`ISO_gz` | Compressed Binary isosurface data format (Available if zlib library is linked) |\n",
    "\n"
   ]
  },
  {
   "cell_type": "markdown",
   "id": "1aaafcb4-4b7b-48d3-9c7b-d6c9bff24a04",
   "metadata": {
    "jp-MarkdownHeadingCollapsed": true,
    "tags": []
   },
   "source": [
    "### Block `isosurf_define`"
   ]
  },
  {
   "cell_type": "markdown",
   "id": "ab79cba1-2a0c-4463-8773-34fe85bdffa4",
   "metadata": {},
   "source": [
    "Each isosurface is defined in this block.\n",
    "\n",
    "-`isosurf_field [Field]`\n",
    "Field name for isosurface is defined by `[FIELD]`. Name of the field name are chosen from array `nod_value_ctl`.\n",
    "\n",
    "-`isosurf_component [COMPONENT]`\n",
    "Component name for isosurface is defined by `[COMPONENT]`. Avaiable component for `[COMPONENT]` are the following:\n",
    "\n",
    "|`[COMPONENT]` | Field type |\n",
    "|:-|:-|\n",
    "|`scalar` | Scalar field  |\n",
    "|`x` | $x$-component |\n",
    "|`y` | $y$-component |\n",
    "|`z` | $z$-component |\n",
    "|`radial` | radial ($r$-) component |\n",
    "|`theta` | $\\theta$-component |\n",
    "|`phi` | $\\phi$-component |\n",
    "|`cylinder_r` | cylindrical radial ($s$-) component |\n",
    "|`magnitude` | magnitude of vector $(x^2+y^2+z^2)$ |\n",
    "\n",
    "-`isosurf_value [VALUE]`\n",
    "Isosurface `[VALUE]` is defined as real value.\n",
    "\n",
    "-`Array isosurf_area_ctl [AREA]`  \n",
    "Areas for the isosurfacing are defined in this array. The following area can be defined.\n",
    "\n",
    "|`[AREA]` | Description | Math expression |\n",
    "|:-|:-|:-|\n",
    "|`all` | Entire domain  | |\n",
    "|`inner_core` | inside of the inner boundary of the fluid shell | $r<r_{i}$  |\n",
    "|`outer_core` | the fluid shell | $r_{i}<r<r_{o}$  |\n",
    "|`external` | outside of the outer boundary of the fluid shell | $r_{o} < r$  |\n",
    "\n",
    "\n"
   ]
  },
  {
   "cell_type": "markdown",
   "id": "44c34168-7f25-488b-a37a-1563629c8926",
   "metadata": {
    "tags": []
   },
   "source": [
    "### Block `field_on_isosurf`"
   ]
  },
  {
   "cell_type": "markdown",
   "id": "4e0f6973-0d26-492a-a4d5-814667ec8d84",
   "metadata": {},
   "source": [
    "Field data on the isosurface are defined in this block.\n",
    "\n",
    "-`result_type [TYPE]`\n",
    "Output data type is defined by `[TYPE]`. Following types can be defined:\n",
    "\n",
    "|`[TYPE]` | Description | Math expression |\n",
    "|:-|:-|:-|\n",
    "|`constant` | Constant value is set as a result data. The amplitude is set by `result_value`. |\n",
    "|`field` | field data on the isosurface are written. Fields to be written are defined by Array `output_field`. |\n",
    "\n",
    "-`result_value [VALUE]`\n",
    "Value in output data `[VALUE]` is defined as real value.\n",
    "\n",
    "- Array `output_field [FIELD] [COMPONENT]`  \n",
    "Field informations on isosurface are defined in this array. Name of the output fields is defined by `[FIELD]`, and component of the fields is defined by `[COMPONENT]`. Labels of the field name are in `nod_value_ctl`. Labels of the component are listed below:\n",
    "\n",
    "|`[COMPONENT]` | Field type |\n",
    "|:-|:-|\n",
    "|`scalar` | Scalar field  |\n",
    "|`vector` |  Cartesian vector field $(x, y, z)$ |\n",
    "|`spherical_vector` | spherical vector field $(r, \\theta, \\phi)$ |\n",
    "|`cylindrical_vector` | cylindrical vector field $(s, \\phi, z)$ |\n",
    "|`x` | $x$-component |\n",
    "|`y` | $y$-component |\n",
    "|`z` | $z$-component |\n",
    "|`radial` | radial ($r$-) component |\n",
    "|`theta` | $\\theta$-component |\n",
    "|`phi` | $\\phi$-component |\n",
    "|`cylinder_r` | cylindrical radial ($s$-) component |\n",
    "|`magnitude` | magnitude of vector $(x^2+y^2+z^2)$ |\n",
    "\n",
    "**Paraview treats vector fields in the Cartecian coordinate. Consequently, don't use results with `spherical_vector` and `cylindrical_vector` for drawing griphs or fieldlines.**\n"
   ]
  },
  {
   "cell_type": "markdown",
   "id": "9e2ae69b-57d8-4f89-90c7-e6563711e05b",
   "metadata": {
    "tags": []
   },
   "source": [
    "# End"
   ]
  }
 ],
 "metadata": {
  "kernelspec": {
   "display_name": "Python 3 (ipykernel)",
   "language": "python",
   "name": "python3"
  },
  "language_info": {
   "codemirror_mode": {
    "name": "ipython",
    "version": 3
   },
   "file_extension": ".py",
   "mimetype": "text/x-python",
   "name": "python",
   "nbconvert_exporter": "python",
   "pygments_lexer": "ipython3",
   "version": "3.10.4"
  },
  "toc-autonumbering": true,
  "toc-showcode": true,
  "toc-showmarkdowntxt": false
 },
 "nbformat": 4,
 "nbformat_minor": 5
}
