{
 "cells": [
  {
   "cell_type": "markdown",
   "id": "9318663a-3b69-4b33-9579-be512f928bc3",
   "metadata": {
    "tags": []
   },
   "source": [
    "# Simple control file editor\n",
    "\n",
    "This notebook is used to update control files for Calypso. The first (this) section contains programs to load, edit, and store control files. The second section is the description of control items. In Jupyter Lab, you can display the control parameter descriptions and control block editor side by side, and edit control data by looking at the descritions of the control parameters.\n",
    "\n",
    "The follwing routines are used in this editor:\n",
    "\n",
    "- `[Instance] = Control_Obj()`  \n",
    "Initialize class for control data named [Instance].\n",
    "- `[Instance].new_control_data([block_names])`  \n",
    "Create new control data with empty block named [block_names] to [Instance].\n",
    "- `[Instance].read_control_file([file_name])`  \n",
    "Read and store control data from [file_name] to [Instance].\n",
    "- `[Instance].write_control_file([file_name])`  \n",
    "Write control data in [Instance].\n",
    "- `[List_Instance] = Show_Block_Names([Instance], [Block_names])`  \n",
    "List block and external control file names.\n",
    "- `[Widget_instance] = Control_Block_Editor([Instance], [Block_names])`  \n",
    "Open a editor for control block or array including special editors."
   ]
  },
  {
   "cell_type": "markdown",
   "id": "c74ee88f-39eb-45e1-80c0-df509b6cc488",
   "metadata": {
    "tags": []
   },
   "source": [
    "## Prepare functions to edit control blocks\n",
    "The preparation consists of five steps. The first is loading required libraries, and the next step is loading class to store and edit control data."
   ]
  },
  {
   "cell_type": "markdown",
   "id": "25a391bb-58bc-4609-9eed-0baf93e77fa1",
   "metadata": {
    "tags": []
   },
   "source": [
    "#### Loading libraries\n",
    "\n",
    "Load libraries for this notebook are loaded.  \n",
    "- os  \n",
    "Interface to operation systems. It is one of the standard libraries.\n",
    "- re  \n",
    "Treat regular expression. It is one of the standard libraries.\n",
    "\n",
    "- IPython  \n",
    "A rich architecture for interactive computing (https://ipython.org)\n",
    "- ipywidets  \n",
    "Interactive HTML widgets for Jupyter notebooks and the IPython kernel. (https://pypi.org/project/ipywidgets/)"
   ]
  },
  {
   "cell_type": "code",
   "execution_count": 60,
   "id": "2ecbc3fd-8dc3-4807-8232-13d1a1b56037",
   "metadata": {},
   "outputs": [
    {
     "data": {
      "text/html": [
       "<style> select, textarea, input {font-family: Courier new; } <\\style>"
      ],
      "text/plain": [
       "<IPython.core.display.HTML object>"
      ]
     },
     "execution_count": 60,
     "metadata": {},
     "output_type": "execute_result"
    }
   ],
   "source": [
    "import os\n",
    "import re\n",
    "import IPython\n",
    "import ipywidgets as widgets\n",
    "from IPython.display import Math, display\n",
    "\n",
    "IPython.display.HTML('<style> select, textarea, input {font-family: Courier new; } <\\style>')"
   ]
  },
  {
   "cell_type": "markdown",
   "id": "e3ed99fa-1919-42f1-ab5b-fad9e3507641",
   "metadata": {
    "tags": []
   },
   "source": [
    "#### Routines 1 (control data IO)\n",
    "\n",
    "Make class `Control_Obj` to treat control file.  \n",
    "Following routines are used:\n",
    "\n",
    "- `[Instance] = Control_Obj()` \n",
    "Initialize class for control data named [Instance].\n",
    "- `[Instance].new_control_data([block_names])` \n",
    "Create new control data with empty block named [block_names] to [Instance].\n",
    "- `[Instance].read_control_file([file_name])` \n",
    "Read and store control data from [file_name] to [Instance].\n",
    "- `[Instance].write_control_file([file_name])` \n",
    "Write control data in [Instance].\n",
    "\n"
   ]
  },
  {
   "cell_type": "code",
   "execution_count": 61,
   "id": "cd2f2f9f-7b6f-4750-bf61-82d32720f72e",
   "metadata": {},
   "outputs": [],
   "source": [
    "class Control_Obj(object):\n",
    "    def __init__(self):\n",
    "        self.file_name = \"\"\n",
    "        self.datalist = [\"\"]\n",
    "        self.datalist.clear()\n",
    "            \n",
    "    def read_control_file(self, file_name):\n",
    "        self.file_name = file_name\n",
    "        f = open(file_name, 'r')\n",
    "        self.datalist = f.readlines()\n",
    "        f.close()\n",
    "        print('File \\'', file_name, '\\' is loaded.')\n",
    "        print(file_name, ' has ', len(self.datalist), 'lines.')\n",
    "\n",
    "    def write_control_file(self, file_name):\n",
    "        if(os.path.isfile(file_name)):\n",
    "            print(\"File \", file_name, \"exists. No overwrite\")\n",
    "        else:\n",
    "            f = open(file_name, 'w')\n",
    "            f.writelines(self.datalist)\n",
    "            f.close()\n",
    "            print(\"File \", file_name, \"is written.\")\n",
    "    \n",
    "    def new_control_data(self, block_name):\n",
    "        self.datalist.append('begin ' + block_name + '\\n')\n",
    "        self.datalist.append('end ' + block_name + '\\n')\n",
    "        print('******* New control data  *********')\n",
    "\n",
    "        for index in range(len(self.datalist)):\n",
    "            print(index, self.datalist[index], end='')"
   ]
  },
  {
   "cell_type": "markdown",
   "id": "24790202-e540-421f-b10d-058749a36f2b",
   "metadata": {
    "tags": []
   },
   "source": [
    "#### Routines 2 (Search block)\n",
    "\n",
    "Make class `Block_Finder` to find start and end lines of block. All subroutines are used internally."
   ]
  },
  {
   "cell_type": "code",
   "execution_count": 62,
   "id": "83da1d86-cb2a-4188-95d1-da02bde3df13",
   "metadata": {},
   "outputs": [],
   "source": [
    "class Block_Finder(object):\n",
    "    def find_target_block_name(self, block_names):\n",
    "        block_list = block_names.split(None)\n",
    "        if(len(block_list) == 0):\n",
    "            return \"\"\n",
    "        return block_list[len(block_list)-1];\n",
    "    \n",
    "    def __count_block_w_range(self, datalist, block_name, outside_block):\n",
    "        icou = 0\n",
    "        for index in range(outside_block[0], outside_block[1]):\n",
    "            if(len(datalist[index].split(None)) < 2):\n",
    "                continue\n",
    "            block_label = datalist[index].split(None)[1]\n",
    "            if(block_name.upper() == block_label.upper()):\n",
    "                if(re.match('^\\s*file',datalist[index])):\n",
    "                    icou = icou + 1\n",
    "                if(re.match('^\\s*begin',datalist[index])):\n",
    "                    icou = icou + 1\n",
    "        if(icou > 1):\n",
    "            print(\"There is more than one block with same name between\")\n",
    "            block_label = datalist[outside_block[0]]\n",
    "            print(\"    \\'\", outside_block[0], \": \", block_label.rstrip(), \"\\'\")\n",
    "            block_label = datalist[outside_block[1]-1]\n",
    "            print(\"and \\'\", outside_block[1], \": \", block_label.rstrip(), \"\\'.\")\n",
    "        return icou\n",
    "\n",
    "    def begin_and_end_block_w_range(self, datalist, block_name, outside_block):\n",
    "        array_index = -1\n",
    "        if(\"[\" in block_name):\n",
    "            stripped = re.sub(\"\\[.*\\]\", \"\", block_name)\n",
    "            tmp_num = re.sub(\".*\\[\", \"\", block_name)\n",
    "            array_index = int(re.sub(\"\\]\", \"\", tmp_num))\n",
    "            icou = 0\n",
    "        else:\n",
    "            stripped = block_name\n",
    "        \n",
    "        blk_line = [-1,-1]\n",
    "        if(array_index == -1):\n",
    "            if(self.__count_block_w_range(datalist, stripped, outside_block) > 1):\n",
    "                print(\"\"\"Specify index of array block by \\[\\#\\] \n",
    "                       or add belonged block in the block name list\"\"\")\n",
    "                return blk_line\n",
    "        \n",
    "        for index in range(outside_block[0], outside_block[1]):\n",
    "            if(len(datalist[index].split(None)) < 2):\n",
    "                continue\n",
    "            block_label = datalist[index].split(None)[1]\n",
    "            if(stripped.upper() == block_label.upper()):\n",
    "                if(re.match('^\\s*file',datalist[index]) \\\n",
    "                  and array_index == -1):\n",
    "                    blk_line[0] = index\n",
    "                    blk_line[1] = index\n",
    "                    print(stripped, 'is in the external file ', \\\n",
    "                         datalist[index].split(None)[2])\n",
    "                    print('Please load control data from \\'', end=\"\")\n",
    "                    print(datalist[index].split(None)[2], end=\"\")\n",
    "                    print('\\' into new control data instance by ')\n",
    "                    print(' [New_instance] = Control_Obj()')\n",
    "                    print(' [New_instance].read_control_file(\\'', \\\n",
    "                          datalist[index].split(None)[2], '\\')\\n')\n",
    "                    break\n",
    "#   Find starting of block\n",
    "                elif(re.match('^\\s*begin',datalist[index]) \\\n",
    "                  and array_index == -1):\n",
    "                    blk_line[0] = index\n",
    "#   Find starting of array block\n",
    "                elif(re.match('^\\s*array',datalist[index]) \\\n",
    "                  and array_index == 0):\n",
    "                    blk_line[0] = index\n",
    "#   Find starting of block in array\n",
    "                elif(re.match('^\\s*begin',datalist[index]) \\\n",
    "                  and array_index > 0):\n",
    "                    icou = icou + 1\n",
    "                    if(icou == array_index):\n",
    "                        blk_line[0] = index\n",
    "                        \n",
    "        if(blk_line[0] < 0):\n",
    "            if(array_index == 0):\n",
    "                print(\"Array\", stripped, \" is missing.\")\n",
    "            elif(array_index == -1):\n",
    "                print(\"Block\", stripped, \" is missing.\")\n",
    "            else:\n",
    "                print(array_index, \"-th Block\", stripped, \" is missing.\")\n",
    "            return blk_line\n",
    "\n",
    "        for index in range(blk_line[0], outside_block[1]):\n",
    "            if(len(datalist[index].split(None)) < 2):\n",
    "                continue\n",
    "#   Find end of array block\n",
    "            if(re.match('^\\s*end\\s*array',datalist[index]) \\\n",
    "              and array_index == 0):\n",
    "                block_label = datalist[index].split(None)[2]\n",
    "                if(stripped.upper() == block_label.upper()):\n",
    "                    blk_line[1] = index\n",
    "                    break\n",
    "#   Find starting of end block\n",
    "            elif(re.match('^\\s*end',datalist[index]) \\\n",
    "              and array_index != 0):\n",
    "                block_label = datalist[index].split(None)[1]\n",
    "                if(stripped.upper() == block_label.upper()):\n",
    "                    blk_line[1] = index\n",
    "                    break\n",
    "\n",
    "        if(blk_line[1] < 0):\n",
    "            if(array_index == 0):\n",
    "                print(\"Array\", stripped, \" is not closed.\")\n",
    "            elif(array_index == -1):\n",
    "                print(\"Block\", stripped, \" is not closed.\")\n",
    "            else:\n",
    "                print(array_index, \"-th Block\", stripped, \" is not closed.\")\n",
    "        return blk_line\n",
    "\n",
    "    def begin_and_end_block(self, datalist, block_names):\n",
    "        block_list = block_names.split(None)\n",
    "        num_blk_name = len(block_list)\n",
    "        blk_line = [0, len(datalist)]\n",
    "\n",
    "        for index in range(len(block_list)):        \n",
    "            blk_line = self.begin_and_end_block_w_range(datalist, block_list[index], blk_line)\n",
    "        return blk_line"
   ]
  },
  {
   "cell_type": "markdown",
   "id": "5b078478-23af-4b28-97a0-98398886e20b",
   "metadata": {
    "tags": []
   },
   "source": [
    "#### Routines 3 (List control blocks)\n",
    "\n",
    "Make class `Show_Block_Names` to show loaded control data.\n",
    "\n",
    "- `[List_Instance] = Show_Block_Names([Instance], [Block_name])`\n",
    "\n",
    "This command lists control, file, and array blocks below `[Block_name]` in the control file data [Instance] which is read from control file. The output is a list of  \n",
    "- Line #, lebel of block, and text including the block name.  \n",
    "\n",
    "This routine also send a message if blokes does not have consistency. "
   ]
  },
  {
   "cell_type": "code",
   "execution_count": 63,
   "id": "17dc4f35-5033-4a7f-b6c8-6d239b43bb61",
   "metadata": {},
   "outputs": [],
   "source": [
    "class Show_Block_Names(Block_Finder):\n",
    "    def __init__(self, control, top_block):\n",
    "        self.block_list(control.datalist, top_block)\n",
    "\n",
    "    def __find_blocks(self, datalist, level, blk_list, blk_line):\n",
    "        if(blk_line[0]+1 > blk_line[1]):\n",
    "            return level\n",
    "    \n",
    "        for index in range(blk_line[0]+1, blk_line[1]+1):\n",
    "            if(index >= len(datalist)):\n",
    "                break\n",
    "            if(re.match('^\\s*file',datalist[index])):\n",
    "                print(\"{:>4d} {:>2d}\".format(index, level+1), datalist[index], end=\"\")\n",
    "    \n",
    "            if(re.match('^\\s*end\\s*array',datalist[index])):\n",
    "                current_blk = blk_list[level-1]\n",
    "                blk_name = datalist[index].split(None)[2]\n",
    "                if(blk_name.upper() == current_blk.upper()):\n",
    "                    level = level - 1\n",
    "#                    print('end array', level)\n",
    "                    del blk_list[level]\n",
    "            \n",
    "            elif(re.match('^\\s*end',datalist[index])):\n",
    "                current_blk = blk_list[level-1]\n",
    "                blk_name = datalist[index].split(None)[1]\n",
    "                if(blk_name.upper() == current_blk.upper()):\n",
    "                    level = level - 1\n",
    "#                    print('end block', level)\n",
    "                    del blk_list[level]\n",
    "    \n",
    "            elif(re.match('^\\s*begin',datalist[index])):\n",
    "                child_blk = datalist[index].split(None)[1]\n",
    "                blk_list.append(child_blk)\n",
    "                level = level + 1\n",
    "                blk_line[0] = index\n",
    "                print(\"{:>4d} {:>2d}\".format(index, level), datalist[index], end=\"\")\n",
    "                return 1 + self.__find_blocks(datalist, level, blk_list, blk_line)\n",
    "    \n",
    "            elif(re.match('^\\s*array',datalist[index])):\n",
    "                child_blk = datalist[index].split(None)[1]\n",
    "                blk_list.append(child_blk)\n",
    "                level = level + 1\n",
    "                blk_line[0] = index\n",
    "                print(\"{:>4d} {:>2d}\".format(index, level), datalist[index], end=\"\")\n",
    "                return 1 + self.__find_blocks(datalist, level, blk_list, blk_line)\n",
    "    \n",
    "        if(level != 0):\n",
    "            print(\"control blocks does not close correctory. Need checks.\", level)\n",
    "        return level\n",
    "\n",
    "    def block_list(self, datalist, top_block):\n",
    "        level = 0\n",
    "        blk_line = self.begin_and_end_block(datalist, top_block)\n",
    "        print(\"Line#, block level, text\" )\n",
    "        for index in range(blk_line[0], blk_line[1]):\n",
    "            if(re.match('^\\s*begin',datalist[index])):\n",
    "                level = level + 1\n",
    "                block_name = datalist[index].split(None)[1]\n",
    "                blk_list = [block_name]\n",
    "                blk_line[0] = index\n",
    "                print(\"{:>4d} {:>2d}\".format(index, level), blk_line, datalist[index], end=\"\")\n",
    "                \n",
    "                level_out = self.__find_blocks(datalist, level, blk_list, blk_line)\n",
    "                break\n",
    "        return"
   ]
  },
  {
   "cell_type": "markdown",
   "id": "d5b53e74-8091-4997-b9e7-e33dc63cb51e",
   "metadata": {
    "tags": []
   },
   "source": [
    "#### Routines 4 (block editor)\n",
    "\n",
    "Make class `Control_Block_Editor` to make block Editor from `Block_Finder`. Block editer is called by\n",
    "\n",
    "- `[Widget_instance] = Control_Block_Editor([Instance], [Block_name])`\n",
    "\n",
    "This command opens a text editor for block [Block_name] in the control file data [Instance] which is read from control file. After editind the block, update is applied when Update [Block_name] bottun is clicked.  The updated control data around the block are also displayed after clicking the bottun. [Widget_instance] name is only used to make the editor.\n",
    "\n",
    "In the cases when there is more than one block with the same name, `[Block_name]` can specify the belonged blocks sepalated by space. For example, the folloing command opens editor for `phys_values_ctl` in `model` in `MHD_control`.\n",
    "\n",
    "`a = Control_Block_Editor(ctl, 'MHD_control model phys_values_ctl')`\n",
    "\n",
    "If the target block is the array block, Add '[0]' after the array block name. For example, the folloing command opens editor for array `volume_spectrum_ctl` in `sph_monitor_ctl`.\n",
    "\n",
    "`b = Control_Block_Editor(ctl, 'sph_monitor_ctl volume_spectrum_ctl[0]')`\n",
    "\n",
    "To specify i-th (i start from 1) block in array block set [i] after the block name. For example, the folloing command opens editor for 2nd block of `volume_spectrum_ctl` in `sph_monitor_ctl`.\n",
    "\n",
    "`c = Control_Block_Editor(ctl, 'sph_monitor_ctl volume_spectrum_ctl[2]')`\n",
    "\n"
   ]
  },
  {
   "cell_type": "code",
   "execution_count": 64,
   "id": "254e7bbb-bb2e-44a5-8709-37cdaea99b19",
   "metadata": {},
   "outputs": [],
   "source": [
    "class Control_Block_Editor(Block_Finder):\n",
    "    def  __init__(self, control, block_names):\n",
    "        self.datalist = control.datalist\n",
    "        self.update_output = widgets.Output()\n",
    "        self.blk_names = block_names\n",
    "        self.block_editbox()\n",
    "#        print('control.datalist', id(control.datalist))\n",
    "#        print('self.datalist init', id(self.datalist))\n",
    "\n",
    "\n",
    "\n",
    "    def make_editbox(self, blk_names):\n",
    "        blk_line = self.begin_and_end_block(self.datalist, blk_names)\n",
    "\n",
    "        block_text = ''\n",
    "        for index in range(blk_line[0],blk_line[1]+1):\n",
    "            block_text = block_text + self.datalist[index]\n",
    "\n",
    "        Tx = widgets.Textarea(\n",
    "            value=block_text,\n",
    "            placeholder='Type something',\n",
    "            description='',\n",
    "            disabled=False,\n",
    "            rows=(blk_line[1] - blk_line[0] + 2),                            \n",
    "            layout=widgets.Layout(width=\"auto\")\n",
    "            )\n",
    "        return Tx\n",
    "            \n",
    "    def make_update_button(self, blk_names):\n",
    "        block_name = self.find_target_block_name(blk_names)\n",
    "        b_layout = widgets.Layout(width='auto', height='40px')\n",
    "        update_button = widgets.Button(description=(\"Update \" + block_name),\n",
    "                                       button_style='success',\n",
    "                                       layout = b_layout)\n",
    "        update_button.on_click(self.update_button_pressed)\n",
    "        return update_button\n",
    "\n",
    "    def make_clear_button(self):\n",
    "        b_layout = widgets.Layout(width='auto', height='40px')\n",
    "        update_button = widgets.Button(description=(\"Clear Log\"),\n",
    "                                       button_style='success',\n",
    "                                       layout = b_layout)\n",
    "        update_button.on_click(self.clear_button_pressed)\n",
    "        return update_button\n",
    "\n",
    "\n",
    "    def block_editbox(self):\n",
    "        self.Tx =            self.make_editbox(self.blk_names)\n",
    "        self.update_button = self.make_update_button(self.blk_names)\n",
    "        print(\"To reload current block, press \\\"shift\\\" + \\\"return\\\".\")\n",
    "        display(self.Tx, self.update_button, self.update_output)\n",
    "    \n",
    "    def update_block(self):\n",
    "        self.update_output.clear_output()\n",
    "        \n",
    "        new_datalist = self.Tx.value.splitlines(True)\n",
    "        new_nline = len(new_datalist)\n",
    "        blk_line = self.begin_and_end_block(self.datalist, self.blk_names)\n",
    "\n",
    "#        print(\"Old end Position \", blk_line[1], self.datalist[blk_line[1]])\n",
    "\n",
    "        for index in range(blk_line[0],blk_line[1]+1):\n",
    "            del self.datalist[blk_line[0]]\n",
    "        for index in range(new_nline):\n",
    "            self.datalist.insert(blk_line[0]+index, new_datalist[index])\n",
    "        blk_line[1] = blk_line[0]+new_nline-1\n",
    "#        print(\"New end Position \", blk_line[1], self.datalist[blk_line[1]])\n",
    "        if(blk_line[0]<2):\n",
    "            istart = 0\n",
    "        else:\n",
    "            istart = blk_line[0]-2\n",
    "        \n",
    "        if(blk_line[1]+3>len(self.datalist)-1):\n",
    "            iend = len(self.datalist)\n",
    "        else:\n",
    "            iend = blk_line[1]+3\n",
    "\n",
    "        with self.update_output:\n",
    "#            print('self.datalist updated', id(self.datalist))\n",
    "\n",
    "            self.clear_button = self.make_clear_button()\n",
    "            display(self.clear_button)\n",
    "            print('************   Updated block   **************')\n",
    "            for index in range(istart, iend):\n",
    "                print(index, self.datalist[index], end='')\n",
    "\n",
    "\n",
    "    def update_button_pressed(self,*args):\n",
    "        self.update_block()\n",
    "    def clear_button_pressed(self,*args):\n",
    "        self.update_output.clear_output()\n",
    "   "
   ]
  },
  {
   "cell_type": "markdown",
   "id": "59975e6d-1946-4e67-a2dc-60ecee5c6a00",
   "metadata": {
    "tags": []
   },
   "source": [
    "#### Routins 5 (Special block editors)\n",
    "\n",
    "Make classes for special editor box for governing equation.\n",
    "\n",
    "The following routines are for this class:\n",
    "- `[Widget_instance] = Dimless_ctl_Editor([Instance])`  \n",
    "Open editor for dimensionless numbers in [Instance].\n",
    "- `[Widget_instance] = Momentum_Eq_ctl_Editor([Instance])`  \n",
    "Open editor for coefficients of momentum equation in [Instance].\n",
    "- `[Widget_instance] = Induction_Eq_ctl_Editor([Instance])`  \n",
    "Open editor for coefficients of heat equation in [Instance].\n",
    "- `[Widget_instance] = Heat_Eq_ctl_Editor([Instance])`  \n",
    "Open editor for coefficients of composition equation in [Instance].\n",
    "- `[Widget_instance] = Composition_Eq_ctl_Editor([Instance])`  \n",
    "Open editor for coefficients of induction equation in [Instance].\n",
    "\n",
    "- `[Widget_instance] = Four_eqs_Editor([Instance])`  \n",
    "Open editor for the all goverining equations in [Instance].\n",
    "\n",
    "- `[Widget_instance] = Four_eqs_Editor([Instance])`  \n",
    "Open editor for the all goverining equations in [Instance].\n",
    "\n",
    "- `[Widget_instance] = Surface_define_editor([Instance], [Block_name])`  \n",
    "Open editor for cross section confiurations in [Instance]."
   ]
  },
  {
   "cell_type": "code",
   "execution_count": 65,
   "id": "ac84107b-bfca-469c-8c76-4ef4714fbb96",
   "metadata": {
    "tags": []
   },
   "outputs": [],
   "source": [
    "\n",
    "class Dimless_ctl_Editor(Control_Block_Editor):\n",
    "    def  __init__(self, control):\n",
    "        self.datalist = control.datalist\n",
    "        self.update_output = widgets.Output()\n",
    "        self.dimless_output = widgets.Output()\n",
    "\n",
    "        self.blk_names = 'MHD_control model dimensionless_ctl dimless_ctl[0]'\n",
    "\n",
    "        self.dimensionless_editbox()\n",
    "\n",
    "    def check_coef_block(self, block_names):\n",
    "        self.blk_line = self.begin_and_end_block(self.datalist, block_names)\n",
    "        if(self.blk_line[0] < 0):\n",
    "            print(self.find_target_block_name(block_names) + 'is not found.')\n",
    "            print('Make under \\'coefficients_ctl\\' block.')\n",
    "            return 1\n",
    "        return 0\n",
    "\n",
    "    def print_dimless_list(self):\n",
    "        block_names = 'MHD_control model dimensionless_ctl dimless_ctl[0]'\n",
    "        tgt_label = 'dimless_ctl'\n",
    "        dimless_line = self.begin_and_end_block(self.datalist, block_names)\n",
    "        with self.dimless_output:\n",
    "            print('*******  Avaiable numbers and current value   *********')\n",
    "            print('     Zero = 0.0')\n",
    "            print('     One  = 1.0')\n",
    "            print('     Two  = 2.0')\n",
    "            print('     Radial_35 = 0.65')\n",
    "            for index in range(dimless_line[0]+1,dimless_line[1]):\n",
    "                linetext = self.datalist[index]\n",
    "                label = linetext.split(None)[0]\n",
    "                if(label.upper() == tgt_label.upper()):\n",
    "                    print('     ' + linetext.split(None)[1] +' = ' \\\n",
    "                          + linetext.split(None)[2])\n",
    "            print(\"\\n To reload current block, press \\\"shift\\\" + \\\"return\\\".\")\n",
    "\n",
    "    def const_coefs(self, array_name, math_term):\n",
    "        line_range = self.begin_and_end_block_w_range(self.datalist, array_name, self.blk_line)\n",
    "        coef_text = \"\"\n",
    "        for index in range(line_range[0]+1,line_range[1]):\n",
    "            linetext = self.datalist[index]\n",
    "            tmpcoef = linetext.split(None)[1]\n",
    "            coef_text = coef_text + \"( {\\\\tt \" + tmpcoef.replace(\"_\", \"\\_\")\n",
    "            coef_text = coef_text + \"})^{\" + linetext.split(None)[2] + \"} \"\n",
    "        if(len(coef_text) > 0 ):\n",
    "            coef_text = coef_text + math_term\n",
    "        return coef_text\n",
    "   \n",
    "    def dimensionless_editbox(self):\n",
    "        self.block_names = 'MHD_control model dimensionless_ctl dimless_ctl[0]'\n",
    "        if(self.check_coef_block(self.blk_names) > 0):\n",
    "            return\n",
    "        self.print_dimless_list()\n",
    "        self.Tx = self.make_editbox(self.blk_names)\n",
    "\n",
    "        self.dless_button = widgets.Button(description=\"Update Equation\",\n",
    "                                           button_style='success')\n",
    "        self.dless_button.on_click(self.update_dimless_pressed)\n",
    "        display(self.dimless_output, self.Tx, self.dless_button, self.update_output)\n",
    "\n",
    "    def update_dimless(self):\n",
    "        self.dimless_output.clear_output()\n",
    "        self.print_dimless_list()\n",
    " \n",
    "    def update_dimless_pressed(self,*args):\n",
    "        self.update_block()\n",
    "        self.update_dimless()\n",
    "\n",
    "\n",
    "class Momentum_Eq_ctl_Editor(Dimless_ctl_Editor):\n",
    "    def  __init__(self, control):\n",
    "        self.datalist = control.datalist\n",
    "        self.mom_output = widgets.Output()\n",
    "        self.update_output = widgets.Output()\n",
    "        self.dimless_output = widgets.Output()\n",
    "\n",
    "        self.blk_names = 'MHD_control model coefficients_ctl momentum'\n",
    "\n",
    "        self.momentum_eq_editbox()\n",
    "\n",
    "    def __mom_equation_text(self):\n",
    "        mom_text = self.const_coefs('coef_4_velocity_ctl[0]', \\\n",
    "                                     '\\\\left( \\\\frac{D {\\\\bf u}}{D t} \\\\right)')\n",
    "        prs_text = self.const_coefs('coef_4_press_ctl[0]', \\\n",
    "                                     ' \\\\nabla P')\n",
    "        vis_text = self.const_coefs('coef_4_v_diffuse_ctl[0]', \\\n",
    "                                     '\\\\nabla^{2} {\\\\bf u}')\n",
    "        tbo_text = self.const_coefs('coef_4_buoyancy_ctl[0]', \\\n",
    "                                     '(T {\\\\bf r})')\n",
    "        cbo_text = self.const_coefs('coef_4_composit_buoyancy_ctl[0]', \\\n",
    "                                     '(C {\\\\bf r})')\n",
    "        cor_text = self.const_coefs('coef_4_Coriolis_ctl[0]', \\\n",
    "                                     '(\\\\hat{z} \\\\times {\\\\bf u})')\n",
    "        lor_text = self.const_coefs('coef_4_Lorentz_ctl[0]', \\\n",
    "                                     '( (\\\\nabla \\\\times {\\\\bf B}) \\\\times {\\\\bf B})')\n",
    "        full_text = [\"\",\"\"]\n",
    "        full_text[0] = mom_text\n",
    "        if(len(prs_text) > 0):\n",
    "            full_text[0] = full_text[0] + ' = - ' + prs_text\n",
    "        if(len(vis_text) > 0):\n",
    "            full_text[0] = full_text[0] + ' + ' + vis_text\n",
    "        if(len(cor_text) > 0):\n",
    "            full_text[0] = full_text[0] + ' - ' + cor_text\n",
    "       \n",
    "        full_text[1] = '\\\\ \\\\ \\\\ \\\\ \\\\ \\\\ \\\\ \\\\ '\n",
    "        if(len(tbo_text) > 0):\n",
    "            full_text[1] = full_text[1] + ' + ' + tbo_text\n",
    "        if(len(cbo_text) > 0):\n",
    "            full_text[1] = full_text[1] + ' + ' + cbo_text\n",
    "        if(len(lor_text) > 0):\n",
    "            full_text[1] = full_text[1] + ' + ' + lor_text\n",
    "        return full_text\n",
    "\n",
    "\n",
    "    def momentum_eq_editbox(self):\n",
    "        if(self.check_coef_block(self.blk_names) > 0):\n",
    "            return\n",
    "        self.print_dimless_list()\n",
    "        self.Tx = self.make_editbox(self.blk_names)\n",
    "\n",
    "        self.math_button = widgets.Button(description=\"Update Equation\",\n",
    "                                           button_style='success')\n",
    "        self.math_button.on_click(self.update_mom_eq_pressed)\n",
    " \n",
    "        display(self.mom_output, self.dimless_output, self.Tx,\n",
    "                self.math_button, self.update_output)\n",
    "        self.update_mom_equation()\n",
    "        \n",
    "    def update_mom_equation(self):\n",
    "        full_text = self.__mom_equation_text()\n",
    "\n",
    "        self.dimless_output.clear_output()\n",
    "        self.mom_output.clear_output()\n",
    "        self.print_dimless_list()\n",
    "        with self.mom_output:\n",
    "            print('************  Momeuntum equation  **************')\n",
    "            display(Math(full_text[0]))\n",
    "            display(Math(full_text[1]))        \n",
    "\n",
    "    def update_mom_eq_pressed(self,*args):\n",
    "        self.update_block()\n",
    "        self.update_mom_equation()\n",
    "\n",
    "\n",
    "class Induction_Eq_ctl_Editor(Dimless_ctl_Editor):\n",
    "    def  __init__(self, control):\n",
    "        self.datalist = control.datalist\n",
    "        self.mag_output = widgets.Output()\n",
    "        self.update_output = widgets.Output()\n",
    "        self.dimless_output = widgets.Output()\n",
    "\n",
    "        self.blk_names = 'MHD_control model coefficients_ctl induction'\n",
    "\n",
    "        self.induction_eq_editbox()\n",
    "\n",
    "    def __induction_equation_text(self):\n",
    "        mag_text = self.const_coefs('coef_4_magnetic_ctl[0]', \\\n",
    "                                     '\\\\left( \\\\frac{\\\\partial {\\\\bf B}}{\\\\partial t} \\\\right)')\n",
    "        dif_text = self.const_coefs('coef_4_m_diffuse_ctl[0]', \\\n",
    "                                     '\\\\nabla^{2} {\\\\bf B}')\n",
    "        uxb_text = self.const_coefs('coef_4_induction_ctl[0]', \\\n",
    "                                     '({\\\\bf u} \\\\times {\\\\bf B})')\n",
    "        full_text = mag_text\n",
    "        if(len(dif_text) > 0):\n",
    "            full_text = full_text + ' = ' + dif_text\n",
    "        if(len(uxb_text) > 0):\n",
    "            full_text = full_text + ' + ' + uxb_text\n",
    "        return full_text\n",
    "\n",
    "    def induction_eq_editbox(self):\n",
    "        block_names = 'MHD_control model coefficients_ctl induction'\n",
    "        if(self.check_coef_block(block_names) > 0):\n",
    "            return\n",
    "        self.print_dimless_list()\n",
    "        self.Tx = self.make_editbox(self.blk_names)\n",
    "\n",
    "        self.math_button = widgets.Button(description=\"Update Equation\",\n",
    "                                           button_style='success')\n",
    "        self.math_button.on_click(self.update_induct_eq_pressed)\n",
    "        display(self.mag_output, self.dimless_output, self.Tx,\n",
    "                self.math_button, self.update_output)\n",
    "        self.update_induction_equation()\n",
    "        \n",
    "    def update_induction_equation(self):\n",
    "        full_text = self.__induction_equation_text()\n",
    "\n",
    "        self.mag_output.clear_output()\n",
    "        self.dimless_output.clear_output()\n",
    "        \n",
    "        self.print_dimless_list()\n",
    "        with self.mag_output:\n",
    "            print('************  Induction equation  **************')\n",
    "            display(Math(full_text))\n",
    "\n",
    "    def update_induct_eq_pressed(self,*args):\n",
    "        self.update_block()\n",
    "        self.update_induction_equation()\n",
    "\n",
    "\n",
    "\n",
    "class Heat_Eq_ctl_Editor(Dimless_ctl_Editor):\n",
    "    def  __init__(self, control):\n",
    "        self.datalist = control.datalist\n",
    "        self.heat_output = widgets.Output()\n",
    "        self.update_output = widgets.Output()\n",
    "        self.dimless_output = widgets.Output()\n",
    "\n",
    "        self.blk_names = 'MHD_control model coefficients_ctl thermal'\n",
    "        self.heat_eq_editbox()\n",
    "\n",
    "    def __heat_equation_text(self):\n",
    "        het_text = self.const_coefs('coef_4_termal_ctl[0]', \\\n",
    "                                     '\\\\left( \\\\frac{D T}{D t} \\\\right)')\n",
    "        dif_text = self.const_coefs('coef_4_t_diffuse_ctl[0]', \\\n",
    "                                     ' \\\\nabla^{2} T')\n",
    "        src_text = self.const_coefs('coef_4_heat_source_ctl[0]', \\\n",
    "                                     'Q_{T}')\n",
    "        full_text = het_text\n",
    "        if(len(dif_text) > 0):\n",
    "            full_text = full_text + ' = ' + dif_text\n",
    "        if(len(src_text) > 0):\n",
    "            full_text = full_text + ' + ' + src_text\n",
    "        return full_text\n",
    "\n",
    "    def heat_eq_editbox(self):\n",
    "        if(self.check_coef_block(self.blk_names) > 0):\n",
    "            return\n",
    "        self.print_dimless_list()\n",
    "        self.Tx = self.make_editbox(self.blk_names)\n",
    "\n",
    "        self.math_button = widgets.Button(description=\"Update Equation\",\n",
    "                                           button_style='success')\n",
    "        self.math_button.on_click(self.update_heat_eq_pressed)\n",
    "        display(self.heat_output, self.dimless_output,\n",
    "                self.Tx, self.math_button, self.update_output)\n",
    "        self.update_heat_equation()\n",
    "\n",
    "    def update_heat_equation(self):\n",
    "        full_text = self.__heat_equation_text()\n",
    "\n",
    "        self.dimless_output.clear_output()\n",
    "        self.heat_output.clear_output()\n",
    "        \n",
    "        self.print_dimless_list()\n",
    "        with self.heat_output:\n",
    "            print('************  Heat equation  **************')\n",
    "            display(Math(full_text))\n",
    "\n",
    "    def update_heat_eq_pressed(self,*args):\n",
    "        self.update_block()\n",
    "        self.update_heat_equation()\n",
    "    \n",
    "\n",
    "class Composition_Eq_ctl_Editor(Dimless_ctl_Editor):\n",
    "    def  __init__(self, control):\n",
    "        self.datalist = control.datalist\n",
    "        self.comp_output = widgets.Output()\n",
    "        self.update_output = widgets.Output()\n",
    "        self.dimless_output = widgets.Output()\n",
    "\n",
    "        self.blk_names = 'MHD_control model coefficients_ctl composition'\n",
    "        self.composition_eq_editbox()\n",
    "\n",
    "    def __composition_equation_text(self):\n",
    "        cmp_text = self.const_coefs('coef_4_composition_ctl[0]', \\\n",
    "                                     '\\\\left( \\\\frac{D C}{D t} \\\\right)')\n",
    "        dif_text = self.const_coefs('coef_4_c_diffuse_ctl[0]', \\\n",
    "                                     ' \\\\nabla^{2} C')\n",
    "        src_text = self.const_coefs('coef_4_light_source_ctl[0]', \\\n",
    "                                     'Q_{C}')\n",
    "        full_text = cmp_text\n",
    "        if(len(dif_text) > 0):\n",
    "            full_text = full_text + ' = + ' + dif_text\n",
    "        if(len(src_text) > 0):\n",
    "            full_text = full_text + ' + ' + src_text\n",
    "        return full_text\n",
    "\n",
    "    def composition_eq_editbox(self):\n",
    "        if(self.check_coef_block(self.blk_names) > 0):\n",
    "            return\n",
    "        self.print_dimless_list()\n",
    "        self.Tx = self.make_editbox(self.blk_names)\n",
    "\n",
    "        self.math_button = widgets.Button(description=\"Update Equation\",\n",
    "                                           button_style='success')\n",
    "        self.math_button.on_click(self.update_comp_eq_pressed)\n",
    "\n",
    "        display(self.comp_output, self.dimless_output, \n",
    "                self.Tx, self.math_button, self.update_output)\n",
    "        self.update_comp_equation()\n",
    "        \n",
    "\n",
    "    def update_comp_equation(self):\n",
    "        full_text = self.__composition_equation_text()\n",
    "        \n",
    "        self.dimless_output.clear_output()\n",
    "        self.comp_output.clear_output()\n",
    "        \n",
    "        self.print_dimless_list()\n",
    "        with self.comp_output:\n",
    "            print('************  Conposition equation  **************')\n",
    "            display(Math(full_text))\n",
    "        \n",
    "    def update_comp_eq_pressed(self,*args):\n",
    "        self.update_block()\n",
    "        self.update_comp_equation()\n",
    "\n",
    "        \n",
    "class Four_eqs_Editor(Momentum_Eq_ctl_Editor, Induction_Eq_ctl_Editor, \n",
    "                     Heat_Eq_ctl_Editor, Composition_Eq_ctl_Editor):\n",
    "    def __init__(self, control):\n",
    "        self.datalist = control.datalist\n",
    "        self.blk_names = 'MHD_control model coefficients_ctl'\n",
    "        self.update_output = widgets.Output()\n",
    "        self.heat_output = widgets.Output()\n",
    "        self.comp_output = widgets.Output()\n",
    "        self.mom_output = widgets.Output()\n",
    "        self.mag_output = widgets.Output()\n",
    "\n",
    "        self.dimless_output = widgets.Output()\n",
    "\n",
    "        self.four_eq_editbox()\n",
    "    \n",
    "    def four_eq_editbox(self):\n",
    "        if(self.check_coef_block(self.blk_names) > 0):\n",
    "            return\n",
    "        self.print_dimless_list()\n",
    "        self.Tx = self.make_editbox(self.blk_names)\n",
    "\n",
    "        self.math_button = widgets.Button(description=\"Update Equations\",\n",
    "                                           button_style='success')\n",
    "        self.math_button.on_click(self.update_gov_eq_pressed)\n",
    "\n",
    "\n",
    "        display(self.mom_output, self.mag_output, \n",
    "                self.heat_output, self.comp_output,\n",
    "                self.dimless_output, self.Tx, self.math_button,\n",
    "                self.update_output)\n",
    "        self.update_mom_equation()\n",
    "        self.update_induction_equation()\n",
    "        self.update_heat_equation()\n",
    "        self.update_comp_equation()\n",
    "    \n",
    "    def update_gov_eq_pressed(self,*args):\n",
    "        self.update_block()\n",
    "        self.update_mom_equation()\n",
    "        self.update_induction_equation()\n",
    "        self.update_heat_equation()\n",
    "        self.update_comp_equation()\n",
    "\n"
   ]
  },
  {
   "cell_type": "code",
   "execution_count": 66,
   "id": "81e6c64e-2707-45b6-921f-a2045a4036e2",
   "metadata": {},
   "outputs": [],
   "source": [
    "class Surface_define_editor(Control_Block_Editor):\n",
    "    math_v = ['x', 'y', 'z']\n",
    "\n",
    "    def  __init__(self, control, block_names):\n",
    "        self.datalist = control.datalist\n",
    "        self.surface_eq_output = widgets.Output()\n",
    "        self.update_output = widgets.Output()\n",
    "        self.blk_names = block_names\n",
    "        \n",
    "        self.surface_coef_editbox()\n",
    "        \n",
    "    def __surface_equation_text(self):\n",
    "        math_q = ['X2','Y2','Z2','YZ','ZX','XY','X','Y','Z','CONST']\n",
    "        math_t = ['x^{2}','y^{2}','z^{2}','yz','zx','xy','x','y','z']\n",
    "        coef_txt = ['0.0']*10\n",
    "        coef_blk_name = self.blk_names + '  coefs_ctl[0]'\n",
    "        line_range = self.begin_and_end_block(self.datalist, coef_blk_name)\n",
    "        for index in range(line_range[0]+1,line_range[1]):\n",
    "            linetext = self.datalist[index]\n",
    "            if(len(linetext) < 3):\n",
    "                continue\n",
    "\n",
    "            tmp_dir = linetext.split(None)[1]\n",
    "            tmpcoef = linetext.split(None)[2]\n",
    "\n",
    "            for idir in range(len(math_q)):\n",
    "                if(tmp_dir.upper() == math_q[idir].upper()):\n",
    "                    coef_txt[idir] = tmpcoef\n",
    "                    continue\n",
    "                    \n",
    "        surf_math = \"\"\n",
    "        for idir in range(9):\n",
    "            if(float(coef_txt[idir]) != 0.0):\n",
    "                surf_math = surf_math + '(' + coef_txt[idir] + ')' + math_t[idir] + ' + ' \n",
    "        surf_math = surf_math + '('+ coef_txt[9] + ') = 0'\n",
    "        return surf_math\n",
    "\n",
    "    def __position_text(self, center_blk_name):\n",
    "        center_txt = ['0.0']*3\n",
    "        center_range = self.begin_and_end_block(self.datalist, center_blk_name)\n",
    "        for index in range(center_range[0]+1,center_range[1]):\n",
    "            linetext = self.datalist[index]\n",
    "            if(len(linetext) < 3):\n",
    "                continue\n",
    "\n",
    "            tmp_dir = linetext.split(None)[1]\n",
    "            tmpcoef = linetext.split(None)[2]\n",
    "            for idir in range(len(self.math_v)):\n",
    "                if(tmp_dir.upper() == self.math_v[idir].upper()):\n",
    "                    center_txt[idir] = tmpcoef\n",
    "                    continue\n",
    "        return center_txt\n",
    "\n",
    "    def __sphere_equation_text(self):\n",
    "        radius_label = 'radius'\n",
    "        center_blk_name = self.blk_names + '  center_position[0]'\n",
    "        center_txt = self.__position_text(center_blk_name)\n",
    "\n",
    "        line_range = self.begin_and_end_block(self.datalist, self.blk_names)\n",
    "        for index in range(line_range[0]+1,line_range[1]):\n",
    "            linetext = self.datalist[index]\n",
    "            if(len(linetext) < 2):\n",
    "                continue\n",
    "\n",
    "            label = linetext.split(None)[0]\n",
    "            if(label.upper() == radius_label.upper()):\n",
    "                radius_txt = linetext.split(None)[1]\n",
    "                continue\n",
    "\n",
    "                \n",
    "        surf_math = \"\"\n",
    "        for idir in range(len(self.math_v)):\n",
    "            if(float(center_txt[idir]) == 0.0):\n",
    "                surf_math = surf_math + self.math_v[idir] + '^{2}'\n",
    "            else:\n",
    "                surf_math = surf_math + '[' + self.math_v[idir] + ' - (' + center_txt[idir] + ')]^{2}'\n",
    "\n",
    "            if(idir == 2):\n",
    "                surf_math = surf_math + ' = (' + radius_txt + ')^{2}'\n",
    "            else:\n",
    "                surf_math = surf_math + ' + '\n",
    "        return surf_math\n",
    "\n",
    "\n",
    "    def __plane_equation_text(self):\n",
    "        center_blk_name = self.blk_names + '  center_position[0]'\n",
    "        center_txt = self.__position_text(center_blk_name)\n",
    "\n",
    "        normal_blk_name = self.blk_names + '  normal_vector[0]'\n",
    "        normal_txt = self.__position_text(normal_blk_name)\n",
    "                \n",
    "        surf_math = \"\"\n",
    "        for idir in range(len(self.math_v)):\n",
    "            if(float(normal_txt[idir]) == 0.0):\n",
    "                continue\n",
    "            else:\n",
    "                surf_math = surf_math + '(' + normal_txt[idir] + ')'\n",
    "                if(float(center_txt[idir]) == 0.0):\n",
    "                    surf_math = surf_math + self.math_v[idir]\n",
    "                else:\n",
    "                    surf_math = surf_math + '[' + self.math_v[idir] + ' - (' + center_txt[idir] + ')]'\n",
    "            if(idir == 2):\n",
    "                surf_math = surf_math + ' = 0'\n",
    "            else:\n",
    "                surf_math = surf_math + ' + '\n",
    "        return surf_math\n",
    "\n",
    "    def __ellipsoid_equation_text(self):\n",
    "        center_blk_name = self.blk_names + '  center_position[0]'\n",
    "        center_txt = self.__position_text(center_blk_name)\n",
    "\n",
    "        axis_blk_name = self.blk_names + '  axial_length[0]'\n",
    "        axis_txt = self.__position_text(axis_blk_name)\n",
    "                \n",
    "        surf_math = \"\"\n",
    "        for idir in range(len(self.math_v)):\n",
    "            if(float(axis_txt[idir]) == 0.0):\n",
    "                continue\n",
    "            else:\n",
    "                surf_math = surf_math + '\\\\frac{'\n",
    "                if(float(center_txt[idir]) == 0.0):\n",
    "                    surf_math = surf_math + self.math_v[idir] + '^{2}}'\n",
    "                else:\n",
    "                    surf_math = surf_math + '[' + self.math_v[idir] + ' - (' + center_txt[idir] + ')]^{2}}'\n",
    "                surf_math = surf_math + '{(' + axis_txt[idir] + ')^{2}}'\n",
    "            if(idir == 2):\n",
    "                surf_math = surf_math + ' = 0'\n",
    "            else:\n",
    "                surf_math = surf_math + ' + '\n",
    "        return surf_math\n",
    "\n",
    "    \n",
    "    def surface_coef_editbox(self):\n",
    "        self.Tx =          self.make_editbox(self.blk_names)\n",
    "        self.math_button = self.make_update_button(self.blk_names)\n",
    "        self.math_button.on_click(self.update_surface_eq_pressed)\n",
    "        display(self.surface_eq_output, self.Tx, self.math_button, self.update_output)\n",
    "        self.update_surface_equation()\n",
    "\n",
    "    def update_surface_equation(self):\n",
    "        method_label = 'section_method'\n",
    "\n",
    "        eq_flag =        'equation'\n",
    "        plane_flag =     'plane'\n",
    "        sphere_flag =    'sphere'\n",
    "        ellipsoid_flag = 'ellipsoid'\n",
    "\n",
    "        self.surface_eq_output.clear_output()\n",
    "\n",
    "        line_range = self.begin_and_end_block(self.datalist, self.blk_names)\n",
    "        for index in range(line_range[0]+1,line_range[1]):\n",
    "            linetext = self.datalist[index]\n",
    "            if(len(linetext) < 2):\n",
    "                continue\n",
    "\n",
    "            label = linetext.split(None)[0]\n",
    "            mode =  linetext.split(None)[1]\n",
    "\n",
    "            if(label.upper() == method_label.upper()):\n",
    "                if(mode.upper() == eq_flag.upper()):\n",
    "                    iflag_suef_def = 1\n",
    "                elif(mode.upper() == plane_flag.upper()):\n",
    "                    iflag_suef_def = 2\n",
    "                elif(mode.upper() == sphere_flag.upper()):\n",
    "                    iflag_suef_def = 3\n",
    "                elif(mode.upper() == ellipsoid_flag.upper()):\n",
    "                    iflag_suef_def = 4\n",
    "                break\n",
    "            \n",
    "            print('mode', iflag_suef_def, mode)\n",
    "\n",
    "        if(iflag_suef_def == 1):\n",
    "            surf_math = self.__surface_equation_text()\n",
    "        elif(iflag_suef_def == 2):\n",
    "            surf_math = self.__plane_equation_text()\n",
    "            print('surf_math', surf_math)\n",
    "        elif(iflag_suef_def == 3):\n",
    "            surf_math = self.__sphere_equation_text()\n",
    "        elif(iflag_suef_def == 4):\n",
    "            surf_math = self.__ellipsoid_equation_text()\n",
    "        \n",
    "        with self.surface_eq_output:\n",
    "            print(\"************  Surface equation  **************\")\n",
    "            display(Math(surf_math))\n",
    "            print(\"To reload coefs block, press \\\"shift\\\" + \\\"return\\\".\")\n",
    "\n",
    "        \n",
    "\n",
    "    def update_surface_eq_pressed(self,*args):\n",
    "        self.update_block()\n",
    "        self.update_surface_equation()"
   ]
  },
  {
   "cell_type": "markdown",
   "id": "77529450-94bf-4e9e-b4c2-2d783b2efdf0",
   "metadata": {
    "tags": []
   },
   "source": [
    "#### Routins 6 (Includes all special editors, Final preparation)\n",
    "\n",
    "Make classes to choose block editors by block name.\n",
    "\n",
    "- `[Widget_instance] = Control_Editor([Instance], [Block_name])`\n",
    "\n",
    "This command opens a text editor for block [Block_name] in the control file data [Instance] which is read from control file. After editind the block, update is applied when Update [Block_name] bottun is clicked.  The updated control data around the block are also displayed after clicking the bottun. [Widget_instance] name is only used to make the editor.\n",
    "\n",
    "In the cases when there is more than one block with the same name, `[Block_name]` can specify the belonged blocks sepalated by space. For example, the folloing command opens editor for `phys_values_ctl` in `model` in `MHD_control`.\n",
    "\n",
    "`a = Control_Editor(ctl, 'MHD_control model phys_values_ctl')`\n",
    "\n",
    "If the target block is the array block, Add '[0]' after the array block name. For example, the folloing command opens editor for array `volume_spectrum_ctl` in `sph_monitor_ctl`.\n",
    "\n",
    "`b = Control_Editor(ctl, 'sph_monitor_ctl volume_spectrum_ctl[0]')`\n",
    "\n",
    "To specify i-th (i start from 1) block in array block set [i] after the block name. For example, the folloing command opens editor for 2nd block of `volume_spectrum_ctl` in `sph_monitor_ctl`.\n",
    "\n",
    "`c = Control_Editor(ctl, 'sph_monitor_ctl volume_spectrum_ctl[2]')`\n",
    "\n",
    "If the target (the last) block name is `dimensionless_ctl`, `coefficients_ctl`, `momentum`, `induction`, `thermal`, `composition`, or `surface_define`, special block editor for the corresponding block is opened to check equaitions.\n"
   ]
  },
  {
   "cell_type": "code",
   "execution_count": 67,
   "id": "16baaf90-4fdf-4508-ba25-7c1eea6764b5",
   "metadata": {},
   "outputs": [],
   "source": [
    "class Control_Editor(Four_eqs_Editor, Surface_define_editor):\n",
    "    def __init__(self, control, block_names):\n",
    "        self.datalist = control.datalist\n",
    "        self.blk_names = block_names\n",
    "        \n",
    "        self.update_output = widgets.Output()\n",
    "        self.heat_output = widgets.Output()\n",
    "        self.comp_output = widgets.Output()\n",
    "        self.mom_output = widgets.Output()\n",
    "        self.mag_output = widgets.Output()\n",
    "        self.dimless_output = widgets.Output()        \n",
    "        self.surface_eq_output = widgets.Output()\n",
    "\n",
    "        self.Kemo_eq_editbox()\n",
    "\n",
    "        \n",
    "    def Kemo_eq_editbox(self):\n",
    "        dless_block =   'dimensionless_ctl'\n",
    "        mom_block =     'momentum'\n",
    "        mag_block =     'induction'\n",
    "        heat_block =    'thermal'\n",
    "        comp_block =    'composition'\n",
    "        four_eq_block = 'coefficients_ctl'\n",
    "\n",
    "        psf_define_block = 'surface_define'\n",
    "        \n",
    "        tgt_block = self.find_target_block_name(self.blk_names)\n",
    "        \n",
    "        if(tgt_block.upper() == dless_block.upper()):\n",
    "            self.dimensionless_editbox()\n",
    "        elif(tgt_block.upper() == mom_block.upper()):\n",
    "            self.momentum_eq_editbox()\n",
    "        elif(tgt_block.upper() == mag_block.upper()):\n",
    "            self.induction_eq_editbox()\n",
    "        elif(tgt_block.upper() == heat_block.upper()):\n",
    "            self.heat_eq_editbox()\n",
    "        elif(tgt_block.upper() == comp_block.upper()):\n",
    "            self.composition_eq_editbox()\n",
    "        elif(tgt_block.upper() == four_eq_block.upper()):\n",
    "            self.four_eq_editbox()\n",
    "            \n",
    "        elif(tgt_block.upper() == psf_define_block.upper()):\n",
    "            self.surface_coef_editbox()\n",
    "        \n",
    "        else:\n",
    "            self.block_editbox()"
   ]
  },
  {
   "cell_type": "markdown",
   "id": "e1b4e9cc-36f6-49b9-b544-11db085731cc",
   "metadata": {
    "tags": []
   },
   "source": [
    "## Read control file\n",
    "\n",
    "Read control file and store each line in list. In the following boxes, move the directory with 'control_MHD', check files in the directory, and read the file.  \n",
    "\n",
    "[Instance] = Control_Obj()  \n",
    "[Instance].read_control_file([file_name])\n",
    "\n",
    "\n",
    "These routines initialize instance of the object for control data and read control file [file_name] and store the text data into class [Instance].\n",
    "\n",
    "In this section, Following processes take to save the file.\n",
    "1. Check current directory\n",
    "2. Move to directory to save\n",
    "3. Check files in the moved directory\n",
    "4. Open control file 'control_MHD'"
   ]
  },
  {
   "cell_type": "code",
   "execution_count": 68,
   "id": "36609cb7-b313-458c-bfe8-7d089988d3c5",
   "metadata": {},
   "outputs": [
    {
     "data": {
      "text/plain": [
       "'/Volumes/Sources/matsui/Calypso/src/Jupyter/Test'"
      ]
     },
     "execution_count": 68,
     "metadata": {},
     "output_type": "execute_result"
    }
   ],
   "source": [
    "pwd"
   ]
  },
  {
   "cell_type": "code",
   "execution_count": 69,
   "id": "c8a76d86-183f-4d9a-9a20-a528fcb94393",
   "metadata": {},
   "outputs": [
    {
     "name": "stdout",
     "output_type": "stream",
     "text": [
      "[Errno 2] No such file or directory: 'Test'\n",
      "/Volumes/Sources/matsui/Calypso/src/Jupyter/Test\n"
     ]
    }
   ],
   "source": [
    "cd Test"
   ]
  },
  {
   "cell_type": "code",
   "execution_count": 49,
   "id": "197c3035-adc5-4498-a0f6-5cdad97da934",
   "metadata": {},
   "outputs": [
    {
     "name": "stdout",
     "output_type": "stream",
     "text": [
      "total 60\n",
      "-rw-r--r--@ 1 matsui  staff  13479 Aug 10 08:21 control_MHD\n",
      "-rw-r--r--  1 matsui  staff    644 Aug  9 17:22 control_iso_temp\n",
      "-rw-r--r--  1 matsui  staff    697 Aug  9 17:22 control_psf_CMB\n",
      "-rw-r--r--  1 matsui  staff    704 Aug  9 17:22 control_psf_ICB\n",
      "-rw-r--r--  1 matsui  staff   1153 Aug  9 17:22 control_psf_eq\n",
      "-rw-r--r--  1 matsui  staff   1179 Aug  9 17:22 control_psf_s0.55\n",
      "-rw-r--r--  1 matsui  staff   1184 Aug  9 17:22 control_psf_z0.3\n",
      "-rw-r--r--  1 matsui  staff   1202 Aug  9 17:22 control_psf_zm\n",
      "-rw-r--r--  1 matsui  staff    665 Aug  9 17:22 control_resolution\n",
      "-rw-r--r--  1 matsui  staff  10271 Aug  9 17:22 control_snapshot\n"
     ]
    }
   ],
   "source": [
    "ls -l"
   ]
  },
  {
   "cell_type": "code",
   "execution_count": 50,
   "id": "82009de8-e044-4cd7-997c-498ee48bcca8",
   "metadata": {},
   "outputs": [
    {
     "name": "stdout",
     "output_type": "stream",
     "text": [
      "File ' control_MHD ' is loaded.\n",
      "control_MHD  has  380 lines.\n"
     ]
    }
   ],
   "source": [
    "ctl = Control_Obj()\n",
    "ctl.read_control_file('control_MHD')"
   ]
  },
  {
   "cell_type": "code",
   "execution_count": 51,
   "id": "49736314-1bb5-4e06-9c84-f526f4e6679d",
   "metadata": {},
   "outputs": [
    {
     "name": "stdout",
     "output_type": "stream",
     "text": [
      "control_MHD\n"
     ]
    }
   ],
   "source": [
    "print(ctl.file_name)"
   ]
  },
  {
   "cell_type": "markdown",
   "id": "ecdeee2f-eb1d-4fcf-a94e-956168e9a03f",
   "metadata": {
    "jp-MarkdownHeadingCollapsed": true,
    "tags": []
   },
   "source": [
    "## Make new control data (Please skip if control file is read)\n",
    "\n",
    "This commmands are used for control data from scratch. \n",
    "\n",
    "[Instance] = Control_Obj()  \n",
    "[Instance].new_control_data([block_name])\n",
    "\n",
    "These routines initialize instance of the object for control data and make control data with empty block named [block_name] into class [Instance].\n",
    "\n",
    "In this example, new cotrol data with empty `MHD_control` block is made in the instance `ctl2`."
   ]
  },
  {
   "cell_type": "code",
   "execution_count": 14,
   "id": "c10cffc5-b8d1-42e9-890e-4654edaf4125",
   "metadata": {},
   "outputs": [
    {
     "name": "stdout",
     "output_type": "stream",
     "text": [
      "******* New control data  *********\n",
      "0 begin MHD_control\n",
      "1 end MHD_control\n"
     ]
    }
   ],
   "source": [
    "ctl2 = Control_Obj()\n",
    "ctl2.new_control_data('MHD_control')"
   ]
  },
  {
   "cell_type": "markdown",
   "id": "8ca91525-9b10-4139-a346-a61359185bf2",
   "metadata": {
    "jp-MarkdownHeadingCollapsed": true,
    "tags": []
   },
   "source": [
    "## Write control file\n",
    "\n",
    "Write edited control file. If output file is exist, program does not write file with message.  \n",
    "  \n",
    "[Instance].write_control_file([file_name])\n",
    "\n",
    "This routine write control file text in [Instance] to file [file_name].\n",
    "\n",
    "In this section, Following processes take to save the file.\n",
    "1. Check current directory\n",
    "2. Move to directory to save\n",
    "3. Check files in the moved directory\n",
    "4. Save the control data into 'control_MHD3'"
   ]
  },
  {
   "cell_type": "code",
   "execution_count": 6,
   "id": "66d47f51-6edb-4f77-842f-81b7f67ecb15",
   "metadata": {},
   "outputs": [
    {
     "data": {
      "text/plain": [
       "'/Users/matsui/Desktop/tako'"
      ]
     },
     "execution_count": 6,
     "metadata": {},
     "output_type": "execute_result"
    }
   ],
   "source": [
    "pwd"
   ]
  },
  {
   "cell_type": "code",
   "execution_count": 5,
   "id": "1a36f616-740a-4f29-b274-906233abba92",
   "metadata": {},
   "outputs": [
    {
     "name": "stdout",
     "output_type": "stream",
     "text": [
      "/Users/matsui/Desktop/tako\n"
     ]
    }
   ],
   "source": [
    "cd /Users/matsui/Desktop/tako"
   ]
  },
  {
   "cell_type": "code",
   "execution_count": 4,
   "id": "fa6131ff-e42e-49a6-bb89-9e3cdc4e689d",
   "metadata": {},
   "outputs": [
    {
     "name": "stdout",
     "output_type": "stream",
     "text": [
      "total 620\n",
      "-rw-r--r--   1 matsui  staff   81147 Aug  9 11:47 Calypso_control_editor.ipynb\n",
      "-rw-r--r--   1 matsui  staff   91461 Aug  9 11:45 Calypso_control_glossary.ipynb\n",
      "-rw-r--r--@  1 matsui  staff    1901 Jul 27 19:54 Folding_Calypso.vim\n",
      "-rw-------@  1 matsui  staff   17040 Jun 23 16:42 control_MHD\n",
      "-rw-------@  1 matsui  staff    1106 Jun 26 23:05 control_resolution\n",
      "drwxr-xr-x@ 30 matsui  staff     960 Aug  8 08:55 \u001b[34mcontrols\u001b[m\u001b[m/\n",
      "-rw-r--r--   1 matsui  staff    1955 Aug  9 10:55 just_colorbar.png\n",
      "-rw-r--r--   1 matsui  staff  172108 Aug  9 10:55 test_block_editing.ipynb\n",
      "-rw-r--r--@  1 matsui  staff  176191 Aug  9 10:55 test_block_editing_z.ipynb\n",
      "-rw-r--r--@  1 matsui  staff   29480 Jul 31 16:12 test_block_editor_3.ipynb\n"
     ]
    }
   ],
   "source": [
    "ls -l"
   ]
  },
  {
   "cell_type": "code",
   "execution_count": 17,
   "id": "96b26162-cde7-4bd7-a5dc-c20f59afd7ff",
   "metadata": {},
   "outputs": [
    {
     "name": "stdout",
     "output_type": "stream",
     "text": [
      "File  control_MHD3 exists. No overwrite\n"
     ]
    }
   ],
   "source": [
    "file_name = 'control_MHD3'\n",
    "ctl.write_control_file(file_name)"
   ]
  },
  {
   "cell_type": "markdown",
   "id": "a3ab5bd3-b7fb-4b25-b27f-24705bd25068",
   "metadata": {
    "tags": []
   },
   "source": [
    "## List control blocks\n",
    "\n",
    "In this section, list the blocks in the control data in `ctl` by  \n",
    "\n",
    "`a = Show_Block_Names(ctl, \"\")`  \n",
    "\n",
    "Line #, lebel of block, and text including the block name."
   ]
  },
  {
   "cell_type": "code",
   "execution_count": 52,
   "id": "b84294ae-f972-4394-9a00-fd068c1b5747",
   "metadata": {},
   "outputs": [
    {
     "name": "stdout",
     "output_type": "stream",
     "text": [
      "Line#, block level, text\n",
      "   0  1 [0, 380] begin MHD_control\n",
      "  18  2   begin data_files_def\n",
      "  54  2   file spherical_shell_ctl  'control_resolution'\n",
      "  56  2   begin model\n",
      "  72  3     begin phys_values_ctl\n",
      "  73  4       array nod_value_ctl\n",
      "  99  3     begin time_evolution_ctl\n",
      " 100  4       array time_evo_ctl\n",
      " 109  3     begin boundary_condition\n",
      " 110  4       array bc_temperature\n",
      " 115  4       array bc_velocity\n",
      " 120  4       array bc_magnetic_field\n",
      " 130  3     begin forces_define\n",
      " 131  4       array force_ctl\n",
      " 145  3     begin dimensionless_ctl\n",
      " 146  4       array dimless_ctl\n",
      " 177  3     begin coefficients_ctl\n",
      " 178  4       begin thermal\n",
      " 179  5         array coef_4_termal_ctl\n",
      " 183  5         array coef_4_t_diffuse_ctl\n",
      " 189  4       begin momentum\n",
      " 190  5         array coef_4_velocity_ctl\n",
      " 194  5         array coef_4_press_ctl\n",
      " 198  5         array coef_4_v_diffuse_ctl\n",
      " 202  5         array coef_4_buoyancy_ctl\n",
      " 208  5         array coef_4_Coriolis_ctl\n",
      " 213  5         array coef_4_Lorentz_ctl\n",
      " 220  4       begin induction\n",
      " 221  5         array coef_4_magnetic_ctl\n",
      " 225  5         array coef_4_m_diffuse_ctl\n",
      " 229  5         array coef_4_induction_ctl\n",
      " 241  3     begin temperature_define\n",
      " 244  4       begin low_temp_ctl\n",
      " 248  4       begin high_temp_ctl\n",
      " 257  2   begin control\n",
      " 259  3    begin time_step_ctl\n",
      " 274  3     begin restart_file_ctl\n",
      " 281  3     begin time_loop_ctl\n",
      " 290  2   begin sph_monitor_ctl\n",
      " 298  3     array volume_spectrum_ctl\n",
      " 299  4       begin volume_spectrum_ctl\n",
      " 307  4       begin volume_spectrum_ctl\n",
      " 317  3     begin layered_spectrum_ctl\n",
      " 321  4       array spectr_radius_ctl\n",
      " 329  3     begin pickup_spectr_ctl\n",
      " 333  4       array pick_radius_ctl\n",
      " 339  4       array pick_sph_spectr_ctl\n",
      " 345  3     begin gauss_coefficient_ctl\n",
      " 350  4       array pick_gauss_coef_degree_ctl\n",
      " 355  3     begin dynamo_benchmark_data_ctl\n",
      " 362  2   begin visual_control\n",
      " 363  3     array cross_section_ctl\n",
      " 364  4       file  cross_section_ctl   control_psf_CMB\n",
      " 365  4       file  cross_section_ctl   control_psf_ICB\n",
      " 366  4       file  cross_section_ctl   control_psf_eq \n",
      " 367  4       file  cross_section_ctl   control_psf_z0.3\n",
      " 368  4       file  cross_section_ctl   control_psf_s0.55\n",
      " 371  3     array isosurface_ctl\n",
      " 372  4       file  isosurface_ctl      control_iso_temp\n",
      " 376  2   begin dynamo vizs control\n",
      " 377  3     file zonal mean section ctl  control_psf_zm\n"
     ]
    }
   ],
   "source": [
    "a = Show_Block_Names(ctl, \"\")"
   ]
  },
  {
   "cell_type": "markdown",
   "id": "2cebf192-3983-4c7f-a87d-df1eefc8ffce",
   "metadata": {
    "tags": []
   },
   "source": [
    "## Control block editor\n",
    "Here is the section for block editor. You can move this near the description of each block.  \n",
    "\n",
    "- `[Widget_instance] = Control_Editor([Instance], [Block_name])`\n",
    "\n",
    "This command opens a text editor for block [Block_name] in the control file data [Instance] which is read from control file. After editind the block, update is applied when `Update [Block_name]` bottun is clicked. The updated control data around the block are also displayed after clicking the bottun.  \n",
    "\n",
    "- When `shift + return` keys are pressed in the editor window, the current control block data is reloaded with **discurding changes without push the `Update` Button**.\n",
    "\n",
    "- When more than one editor for the same or including block are opend, \n",
    "the updated change in one editor **does not** automatically applied to the other editors. Please reload the latest control data by pressing `shift + return` in the other editors.\n",
    "\n",
    "In the cases when there is more than one block with the same name, `[Block_name]` can specify the belonged blocks sepalated by space. For example, \n",
    "\n",
    "`a = Control_Editor(ctl, 'MHD_control model phys_values_ctl')`\n",
    "\n",
    "If the target block is the array block, Add '[0]' after the array block name. Here is the example:\n",
    "\n",
    "`b = Control_Editor(ctl, 'sph_monitor_ctl volume_spectrum_ctl[0]')`\n",
    "\n",
    "To specify i-th (i start from 1) block in array block set [i] after the block name as:\n",
    "\n",
    "`c = Control_Editor(ctl, 'sph_monitor_ctl volume_spectrum_ctl[2]')`\n",
    "\n",
    "If blank text is specified for [Block_name], the editor includes entire control data.\n",
    "\n",
    "`d = Control_Editor(ctl, '')`\n",
    "\n",
    "If the target (the last) block name is `dimensionless_ctl`, `coefficients_ctl`, `momentum`, `induction`, `thermal`, `composition`, or `surface_define`, special block editor for the corresponding block is opened to check equaitions."
   ]
  },
  {
   "cell_type": "code",
   "execution_count": 73,
   "id": "d60048d3-5e1d-4220-879c-5b6f287b2cc2",
   "metadata": {},
   "outputs": [
    {
     "name": "stdout",
     "output_type": "stream",
     "text": [
      "To reload current block, press \"shift\" + \"return\".\n"
     ]
    },
    {
     "data": {
      "application/vnd.jupyter.widget-view+json": {
       "model_id": "ec87ffb6b3684359823717b398d7c181",
       "version_major": 2,
       "version_minor": 0
      },
      "text/plain": [
       "Textarea(value='    begin phys_values_ctl\\n      array nod_value_ctl\\n        nod_value_ctl  velocity         …"
      ]
     },
     "metadata": {},
     "output_type": "display_data"
    },
    {
     "data": {
      "application/vnd.jupyter.widget-view+json": {
       "model_id": "70610b99bb304d929cb337f2275cc760",
       "version_major": 2,
       "version_minor": 0
      },
      "text/plain": [
       "Button(button_style='success', description='Update phys_values_ctl', layout=Layout(height='40px', width='auto'…"
      ]
     },
     "metadata": {},
     "output_type": "display_data"
    },
    {
     "data": {
      "application/vnd.jupyter.widget-view+json": {
       "model_id": "cdee21ea0eb3462cbb55bd03b4df52dd",
       "version_major": 2,
       "version_minor": 0
      },
      "text/plain": [
       "Output()"
      ]
     },
     "metadata": {},
     "output_type": "display_data"
    }
   ],
   "source": [
    "a = Control_Editor(ctl, 'phys_values_ctl')"
   ]
  },
  {
   "cell_type": "code",
   "execution_count": 72,
   "id": "2487b9a5-421f-414c-b611-208ba91424d5",
   "metadata": {},
   "outputs": [
    {
     "name": "stdout",
     "output_type": "stream",
     "text": [
      "To reload current block, press \"shift\" + \"return\".\n"
     ]
    },
    {
     "data": {
      "application/vnd.jupyter.widget-view+json": {
       "model_id": "2376e811999c412f912d1fd148bd7273",
       "version_major": 2,
       "version_minor": 0
      },
      "text/plain": [
       "Textarea(value=\"    array volume_spectrum_ctl\\n      begin volume_spectrum_ctl\\n        volume_average_prefix …"
      ]
     },
     "metadata": {},
     "output_type": "display_data"
    },
    {
     "data": {
      "application/vnd.jupyter.widget-view+json": {
       "model_id": "d7f70388ea4f40418fcb7ed984d75b4c",
       "version_major": 2,
       "version_minor": 0
      },
      "text/plain": [
       "Button(button_style='success', description='Update volume_spectrum_ctl[0]', layout=Layout(height='40px', width…"
      ]
     },
     "metadata": {},
     "output_type": "display_data"
    },
    {
     "data": {
      "application/vnd.jupyter.widget-view+json": {
       "model_id": "e1839184d8c24b848c95533dbbf45709",
       "version_major": 2,
       "version_minor": 0
      },
      "text/plain": [
       "Output()"
      ]
     },
     "metadata": {},
     "output_type": "display_data"
    }
   ],
   "source": [
    "b = Control_Editor(ctl, 'sph_monitor_ctl volume_spectrum_ctl[0]')"
   ]
  },
  {
   "cell_type": "code",
   "execution_count": 83,
   "id": "2e09d3b3-6004-420a-9a76-1dd17cbe6b43",
   "metadata": {},
   "outputs": [
    {
     "name": "stdout",
     "output_type": "stream",
     "text": [
      "To reload current block, press \"shift\" + \"return\".\n"
     ]
    },
    {
     "data": {
      "application/vnd.jupyter.widget-view+json": {
       "model_id": "b6e9ba98a3444cc78b2506e1e9f2664e",
       "version_major": 2,
       "version_minor": 0
      },
      "text/plain": [
       "Textarea(value=\"      begin volume_spectrum_ctl\\n        volume_average_prefix        'monitor/sph_ave_inner_c…"
      ]
     },
     "metadata": {},
     "output_type": "display_data"
    },
    {
     "data": {
      "application/vnd.jupyter.widget-view+json": {
       "model_id": "193205759f49474e91748784cc4d9efe",
       "version_major": 2,
       "version_minor": 0
      },
      "text/plain": [
       "Button(button_style='success', description='Update volume_spectrum_ctl[2]', layout=Layout(height='40px', width…"
      ]
     },
     "metadata": {},
     "output_type": "display_data"
    },
    {
     "data": {
      "application/vnd.jupyter.widget-view+json": {
       "model_id": "f98f0691b0ed4b71836250e2e88ada6b",
       "version_major": 2,
       "version_minor": 0
      },
      "text/plain": [
       "Output()"
      ]
     },
     "metadata": {},
     "output_type": "display_data"
    }
   ],
   "source": [
    "c = Control_Editor(ctl, 'sph_monitor_ctl volume_spectrum_ctl[2]')"
   ]
  },
  {
   "cell_type": "markdown",
   "id": "523d3531-6a53-4177-a811-235bc042a969",
   "metadata": {},
   "source": [
    "And, Special editor for governing equations will open by choosing 'coefficients_ctl' block."
   ]
  },
  {
   "cell_type": "code",
   "execution_count": 84,
   "id": "fd37dbfb-8577-4c2c-8d7b-edfd0d8b1188",
   "metadata": {
    "tags": []
   },
   "outputs": [
    {
     "data": {
      "application/vnd.jupyter.widget-view+json": {
       "model_id": "511cf3e0adfe4dc898e7a45483607ed6",
       "version_major": 2,
       "version_minor": 0
      },
      "text/plain": [
       "Output()"
      ]
     },
     "metadata": {},
     "output_type": "display_data"
    },
    {
     "data": {
      "application/vnd.jupyter.widget-view+json": {
       "model_id": "0d1e4024c9bc4c8abcca21cda1bead92",
       "version_major": 2,
       "version_minor": 0
      },
      "text/plain": [
       "Output()"
      ]
     },
     "metadata": {},
     "output_type": "display_data"
    },
    {
     "data": {
      "application/vnd.jupyter.widget-view+json": {
       "model_id": "9d2fb8846c0f46fa821e0b9f6a5ff24e",
       "version_major": 2,
       "version_minor": 0
      },
      "text/plain": [
       "Output()"
      ]
     },
     "metadata": {},
     "output_type": "display_data"
    },
    {
     "data": {
      "application/vnd.jupyter.widget-view+json": {
       "model_id": "6ac1a67f057f4b4f89d811a286675cff",
       "version_major": 2,
       "version_minor": 0
      },
      "text/plain": [
       "Output()"
      ]
     },
     "metadata": {},
     "output_type": "display_data"
    },
    {
     "data": {
      "application/vnd.jupyter.widget-view+json": {
       "model_id": "a84a2469aafe4a16b7bc060cbd777057",
       "version_major": 2,
       "version_minor": 0
      },
      "text/plain": [
       "Output()"
      ]
     },
     "metadata": {},
     "output_type": "display_data"
    },
    {
     "data": {
      "application/vnd.jupyter.widget-view+json": {
       "model_id": "252caa2c1a48402fb3704464bdb23707",
       "version_major": 2,
       "version_minor": 0
      },
      "text/plain": [
       "Textarea(value='    begin coefficients_ctl\\n      begin thermal\\n        array coef_4_termal_ctl\\n          co…"
      ]
     },
     "metadata": {},
     "output_type": "display_data"
    },
    {
     "data": {
      "application/vnd.jupyter.widget-view+json": {
       "model_id": "0efc26b899a444489387cb6a97f9a90f",
       "version_major": 2,
       "version_minor": 0
      },
      "text/plain": [
       "Button(button_style='success', description='Update Equations', style=ButtonStyle())"
      ]
     },
     "metadata": {},
     "output_type": "display_data"
    },
    {
     "data": {
      "application/vnd.jupyter.widget-view+json": {
       "model_id": "d041d9fb257b4a1a92f5c188342081c1",
       "version_major": 2,
       "version_minor": 0
      },
      "text/plain": [
       "Output()"
      ]
     },
     "metadata": {},
     "output_type": "display_data"
    },
    {
     "name": "stdout",
     "output_type": "stream",
     "text": [
      "Array coef_4_composit_buoyancy_ctl  is missing.\n",
      "Array coef_4_heat_source_ctl  is missing.\n",
      "Array coef_4_composition_ctl  is missing.\n",
      "Array coef_4_c_diffuse_ctl  is missing.\n",
      "Array coef_4_light_source_ctl  is missing.\n"
     ]
    }
   ],
   "source": [
    "d=Control_Editor(ctl,'MHD_control model coefficients_ctl')"
   ]
  },
  {
   "cell_type": "markdown",
   "id": "d1d425c5-c5a2-4089-ba9d-1cf8628505e6",
   "metadata": {},
   "source": [
    "Another control file can be loaded into the different instance of `Control_Obj`.\n",
    "In this example, a control file for cross sectioning is loading into instance `sec1`"
   ]
  },
  {
   "cell_type": "code",
   "execution_count": 81,
   "id": "b95afef3-f8ce-4772-aed4-f78eebb12c92",
   "metadata": {},
   "outputs": [
    {
     "name": "stdout",
     "output_type": "stream",
     "text": [
      "File ' control_psf_ICB ' is loaded.\n",
      "control_psf_ICB  has  30 lines.\n",
      "Line#, block level, text\n",
      "   4  1 [4, 30] begin cross_section_ctl\n",
      "   7  2   begin surface_define\n",
      "  10  3     array center_position\n",
      "  18  3     array section_area_ctl\n",
      "  23  2   begin output_field_define\n",
      "  24  3     array output_field\n"
     ]
    }
   ],
   "source": [
    "sec1 = Control_Obj()\n",
    "sec1.read_control_file('control_psf_ICB')\n",
    "a = Show_Block_Names(sec1, \"\")"
   ]
  },
  {
   "cell_type": "markdown",
   "id": "5a222a7d-b779-4291-b10d-58f1a6f7e6a6",
   "metadata": {},
   "source": [
    "And, new control editor for `surface_define` block opens here."
   ]
  },
  {
   "cell_type": "code",
   "execution_count": 82,
   "id": "e9697b20-c02d-4532-bc99-f44e453b5008",
   "metadata": {},
   "outputs": [
    {
     "data": {
      "application/vnd.jupyter.widget-view+json": {
       "model_id": "aba5db26c7c748459f7e5d5564b3cd82",
       "version_major": 2,
       "version_minor": 0
      },
      "text/plain": [
       "Output()"
      ]
     },
     "metadata": {},
     "output_type": "display_data"
    },
    {
     "data": {
      "application/vnd.jupyter.widget-view+json": {
       "model_id": "ba5fe4aa299142099d7d83b7ae841fe6",
       "version_major": 2,
       "version_minor": 0
      },
      "text/plain": [
       "Textarea(value='  begin surface_define\\n    section_method    sphere\\n!\\n    array center_position\\n      cent…"
      ]
     },
     "metadata": {},
     "output_type": "display_data"
    },
    {
     "data": {
      "application/vnd.jupyter.widget-view+json": {
       "model_id": "20ca771610a34bb3babec56ce55d001d",
       "version_major": 2,
       "version_minor": 0
      },
      "text/plain": [
       "Button(button_style='success', description='Update surface_define', layout=Layout(height='40px', width='auto')…"
      ]
     },
     "metadata": {},
     "output_type": "display_data"
    },
    {
     "data": {
      "application/vnd.jupyter.widget-view+json": {
       "model_id": "1c815ab40c0d4e7089ca34872b4c2697",
       "version_major": 2,
       "version_minor": 0
      },
      "text/plain": [
       "Output()"
      ]
     },
     "metadata": {},
     "output_type": "display_data"
    }
   ],
   "source": [
    "z = Control_Editor(sec1, \"surface_define\")"
   ]
  },
  {
   "cell_type": "code",
   "execution_count": null,
   "id": "8a86c52c-0912-4969-a376-17f88e3af7d9",
   "metadata": {},
   "outputs": [],
   "source": []
  }
 ],
 "metadata": {
  "kernelspec": {
   "display_name": "Python 3 (ipykernel)",
   "language": "python",
   "name": "python3"
  },
  "language_info": {
   "codemirror_mode": {
    "name": "ipython",
    "version": 3
   },
   "file_extension": ".py",
   "mimetype": "text/x-python",
   "name": "python",
   "nbconvert_exporter": "python",
   "pygments_lexer": "ipython3",
   "version": "3.10.4"
  },
  "toc-autonumbering": false,
  "toc-showcode": true,
  "toc-showmarkdowntxt": false
 },
 "nbformat": 4,
 "nbformat_minor": 5
}
